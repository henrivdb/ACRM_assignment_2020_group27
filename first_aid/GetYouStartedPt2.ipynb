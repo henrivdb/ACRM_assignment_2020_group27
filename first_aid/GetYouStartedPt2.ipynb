{
 "cells": [
  {
   "cell_type": "code",
   "execution_count": 9,
   "metadata": {},
   "outputs": [],
   "source": [
    "# import packages\n",
    "import numpy as np\n",
    "import pandas as pd\n",
    "import os"
   ]
  },
  {
   "cell_type": "markdown",
   "metadata": {},
   "source": [
    "# Prepare Trips Data"
   ]
  },
  {
   "cell_type": "code",
   "execution_count": 10,
   "metadata": {},
   "outputs": [],
   "source": [
    "# define dir\n",
    "data_dir = \"./infrabel_trips/\""
   ]
  },
  {
   "cell_type": "code",
   "execution_count": 11,
   "metadata": {},
   "outputs": [
    {
     "data": {
      "text/plain": [
       "['.DS_Store', 'trips_20_9.csv_processed.csv', 'trips_21_9.csv_processed.csv']"
      ]
     },
     "execution_count": 11,
     "metadata": {},
     "output_type": "execute_result"
    }
   ],
   "source": [
    "os.listdir(data_dir)"
   ]
  },
  {
   "cell_type": "code",
   "execution_count": 12,
   "metadata": {},
   "outputs": [],
   "source": [
    "# get all the infrabel trip files\n",
    "all_trips = [obs for obs in os.listdir(data_dir) if \".DS\" not in obs]"
   ]
  },
  {
   "cell_type": "code",
   "execution_count": 13,
   "metadata": {},
   "outputs": [
    {
     "data": {
      "text/plain": [
       "['trips_20_9.csv_processed.csv', 'trips_21_9.csv_processed.csv']"
      ]
     },
     "execution_count": 13,
     "metadata": {},
     "output_type": "execute_result"
    }
   ],
   "source": [
    "all_trips"
   ]
  },
  {
   "cell_type": "code",
   "execution_count": 14,
   "metadata": {},
   "outputs": [
    {
     "name": "stdout",
     "output_type": "stream",
     "text": [
      "(0, 0)\n",
      "(39691, 17)\n",
      "(111742, 17)\n"
     ]
    }
   ],
   "source": [
    "full_trips = pd.DataFrame()\n",
    "print(full_trips.shape)\n",
    "\n",
    "for trip in all_trips:\n",
    "    # import \n",
    "    df = pd.read_csv(os.path.join(data_dir, trip), sep=\",\")\n",
    "    full_trips = full_trips.append(df)\n",
    "    print(full_trips.shape)"
   ]
  },
  {
   "cell_type": "markdown",
   "metadata": {},
   "source": [
    "# Import Data"
   ]
  },
  {
   "cell_type": "markdown",
   "metadata": {},
   "source": [
    "## Facilities"
   ]
  },
  {
   "cell_type": "code",
   "execution_count": 9,
   "metadata": {},
   "outputs": [],
   "source": [
    "# import facilities\n",
    "facilities = pd.read_csv(\"./facilities.csv\")"
   ]
  },
  {
   "cell_type": "code",
   "execution_count": 10,
   "metadata": {},
   "outputs": [
    {
     "data": {
      "text/html": [
       "<div>\n",
       "<style scoped>\n",
       "    .dataframe tbody tr th:only-of-type {\n",
       "        vertical-align: middle;\n",
       "    }\n",
       "\n",
       "    .dataframe tbody tr th {\n",
       "        vertical-align: top;\n",
       "    }\n",
       "\n",
       "    .dataframe thead th {\n",
       "        text-align: right;\n",
       "    }\n",
       "</style>\n",
       "<table border=\"1\" class=\"dataframe\">\n",
       "  <thead>\n",
       "    <tr style=\"text-align: right;\">\n",
       "      <th></th>\n",
       "      <th>URI</th>\n",
       "      <th>name</th>\n",
       "      <th>street</th>\n",
       "      <th>zip</th>\n",
       "      <th>city</th>\n",
       "      <th>ticket_vending_machine</th>\n",
       "      <th>luggage_lockers</th>\n",
       "      <th>free_parking</th>\n",
       "      <th>taxi</th>\n",
       "      <th>bicycle_spots</th>\n",
       "      <th>...</th>\n",
       "      <th>sales_open_wednesday</th>\n",
       "      <th>sales_close_wednesday</th>\n",
       "      <th>sales_open_thursday</th>\n",
       "      <th>sales_close_thursday</th>\n",
       "      <th>sales_open_friday</th>\n",
       "      <th>sales_close_friday</th>\n",
       "      <th>sales_open_saturday</th>\n",
       "      <th>sales_close_saturday</th>\n",
       "      <th>sales_open_sunday</th>\n",
       "      <th>sales_close_sunday</th>\n",
       "    </tr>\n",
       "  </thead>\n",
       "  <tbody>\n",
       "    <tr>\n",
       "      <td>0</td>\n",
       "      <td>http://irail.be/stations/NMBS/008734201</td>\n",
       "      <td>Arras</td>\n",
       "      <td>NaN</td>\n",
       "      <td>NaN</td>\n",
       "      <td>NaN</td>\n",
       "      <td>NaN</td>\n",
       "      <td>NaN</td>\n",
       "      <td>NaN</td>\n",
       "      <td>NaN</td>\n",
       "      <td>NaN</td>\n",
       "      <td>...</td>\n",
       "      <td>NaN</td>\n",
       "      <td>NaN</td>\n",
       "      <td>NaN</td>\n",
       "      <td>NaN</td>\n",
       "      <td>NaN</td>\n",
       "      <td>NaN</td>\n",
       "      <td>NaN</td>\n",
       "      <td>NaN</td>\n",
       "      <td>NaN</td>\n",
       "      <td>NaN</td>\n",
       "    </tr>\n",
       "    <tr>\n",
       "      <td>1</td>\n",
       "      <td>http://irail.be/stations/NMBS/008015345</td>\n",
       "      <td>Aachen Hbf</td>\n",
       "      <td>NaN</td>\n",
       "      <td>NaN</td>\n",
       "      <td>NaN</td>\n",
       "      <td>NaN</td>\n",
       "      <td>NaN</td>\n",
       "      <td>NaN</td>\n",
       "      <td>NaN</td>\n",
       "      <td>NaN</td>\n",
       "      <td>...</td>\n",
       "      <td>NaN</td>\n",
       "      <td>NaN</td>\n",
       "      <td>NaN</td>\n",
       "      <td>NaN</td>\n",
       "      <td>NaN</td>\n",
       "      <td>NaN</td>\n",
       "      <td>NaN</td>\n",
       "      <td>NaN</td>\n",
       "      <td>NaN</td>\n",
       "      <td>NaN</td>\n",
       "    </tr>\n",
       "    <tr>\n",
       "      <td>2</td>\n",
       "      <td>http://irail.be/stations/NMBS/008895000</td>\n",
       "      <td>Aalst</td>\n",
       "      <td>Stationsplein 9</td>\n",
       "      <td>9300</td>\n",
       "      <td>Aalst</td>\n",
       "      <td>1.0</td>\n",
       "      <td>0.0</td>\n",
       "      <td>1.0</td>\n",
       "      <td>1.0</td>\n",
       "      <td>1.0</td>\n",
       "      <td>...</td>\n",
       "      <td>05:45</td>\n",
       "      <td>20:00</td>\n",
       "      <td>05:45</td>\n",
       "      <td>20:00</td>\n",
       "      <td>05:45</td>\n",
       "      <td>20:00</td>\n",
       "      <td>06:00</td>\n",
       "      <td>20:00</td>\n",
       "      <td>06:00</td>\n",
       "      <td>20:00</td>\n",
       "    </tr>\n",
       "    <tr>\n",
       "      <td>3</td>\n",
       "      <td>http://irail.be/stations/NMBS/008895125</td>\n",
       "      <td>Aalst-Kerrebroek</td>\n",
       "      <td>Ledebaan</td>\n",
       "      <td>9300</td>\n",
       "      <td>Aalst</td>\n",
       "      <td>0.0</td>\n",
       "      <td>0.0</td>\n",
       "      <td>1.0</td>\n",
       "      <td>0.0</td>\n",
       "      <td>0.0</td>\n",
       "      <td>...</td>\n",
       "      <td>NaN</td>\n",
       "      <td>NaN</td>\n",
       "      <td>NaN</td>\n",
       "      <td>NaN</td>\n",
       "      <td>NaN</td>\n",
       "      <td>NaN</td>\n",
       "      <td>NaN</td>\n",
       "      <td>NaN</td>\n",
       "      <td>NaN</td>\n",
       "      <td>NaN</td>\n",
       "    </tr>\n",
       "    <tr>\n",
       "      <td>4</td>\n",
       "      <td>http://irail.be/stations/NMBS/008891140</td>\n",
       "      <td>Aalter</td>\n",
       "      <td>Stationsplein 2</td>\n",
       "      <td>9880</td>\n",
       "      <td>Aalter</td>\n",
       "      <td>1.0</td>\n",
       "      <td>0.0</td>\n",
       "      <td>1.0</td>\n",
       "      <td>0.0</td>\n",
       "      <td>1.0</td>\n",
       "      <td>...</td>\n",
       "      <td>07:00</td>\n",
       "      <td>14:15</td>\n",
       "      <td>07:00</td>\n",
       "      <td>14:15</td>\n",
       "      <td>07:00</td>\n",
       "      <td>14:15</td>\n",
       "      <td>07:45</td>\n",
       "      <td>15:00</td>\n",
       "      <td>07:45</td>\n",
       "      <td>15:00</td>\n",
       "    </tr>\n",
       "  </tbody>\n",
       "</table>\n",
       "<p>5 rows × 36 columns</p>\n",
       "</div>"
      ],
      "text/plain": [
       "                                       URI              name           street  \\\n",
       "0  http://irail.be/stations/NMBS/008734201             Arras              NaN   \n",
       "1  http://irail.be/stations/NMBS/008015345        Aachen Hbf              NaN   \n",
       "2  http://irail.be/stations/NMBS/008895000             Aalst  Stationsplein 9   \n",
       "3  http://irail.be/stations/NMBS/008895125  Aalst-Kerrebroek         Ledebaan   \n",
       "4  http://irail.be/stations/NMBS/008891140            Aalter  Stationsplein 2   \n",
       "\n",
       "    zip    city  ticket_vending_machine  luggage_lockers  free_parking  taxi  \\\n",
       "0   NaN     NaN                     NaN              NaN           NaN   NaN   \n",
       "1   NaN     NaN                     NaN              NaN           NaN   NaN   \n",
       "2  9300   Aalst                     1.0              0.0           1.0   1.0   \n",
       "3  9300   Aalst                     0.0              0.0           1.0   0.0   \n",
       "4  9880  Aalter                     1.0              0.0           1.0   0.0   \n",
       "\n",
       "   bicycle_spots  ...  sales_open_wednesday  sales_close_wednesday  \\\n",
       "0            NaN  ...                   NaN                    NaN   \n",
       "1            NaN  ...                   NaN                    NaN   \n",
       "2            1.0  ...                 05:45                  20:00   \n",
       "3            0.0  ...                   NaN                    NaN   \n",
       "4            1.0  ...                 07:00                  14:15   \n",
       "\n",
       "   sales_open_thursday  sales_close_thursday  sales_open_friday  \\\n",
       "0                  NaN                   NaN                NaN   \n",
       "1                  NaN                   NaN                NaN   \n",
       "2                05:45                 20:00              05:45   \n",
       "3                  NaN                   NaN                NaN   \n",
       "4                07:00                 14:15              07:00   \n",
       "\n",
       "   sales_close_friday  sales_open_saturday  sales_close_saturday  \\\n",
       "0                 NaN                  NaN                   NaN   \n",
       "1                 NaN                  NaN                   NaN   \n",
       "2               20:00                06:00                 20:00   \n",
       "3                 NaN                  NaN                   NaN   \n",
       "4               14:15                07:45                 15:00   \n",
       "\n",
       "   sales_open_sunday  sales_close_sunday  \n",
       "0                NaN                 NaN  \n",
       "1                NaN                 NaN  \n",
       "2              06:00               20:00  \n",
       "3                NaN                 NaN  \n",
       "4              07:45               15:00  \n",
       "\n",
       "[5 rows x 36 columns]"
      ]
     },
     "execution_count": 10,
     "metadata": {},
     "output_type": "execute_result"
    }
   ],
   "source": [
    "# check\n",
    "facilities.head(5)"
   ]
  },
  {
   "cell_type": "code",
   "execution_count": 11,
   "metadata": {},
   "outputs": [
    {
     "name": "stdout",
     "output_type": "stream",
     "text": [
      "URI 0.0\n",
      "name 0.0\n",
      "street 0.17210682492581603\n",
      "zip 0.17359050445103857\n",
      "city 0.17359050445103857\n",
      "ticket_vending_machine 0.16765578635014836\n",
      "luggage_lockers 0.16765578635014836\n",
      "free_parking 0.16765578635014836\n",
      "taxi 0.16765578635014836\n",
      "bicycle_spots 0.16765578635014836\n",
      "blue-bike 0.16765578635014836\n",
      "bus 0.16765578635014836\n",
      "tram 0.16765578635014836\n",
      "metro 0.16765578635014836\n",
      "wheelchair_available 0.16765578635014836\n",
      "ramp 0.16765578635014836\n",
      "disabled_parking_spots 0.16765578635014836\n",
      "elevated_platform 0.16765578635014836\n",
      "escalator_up 0.16765578635014836\n",
      "escalator_down 0.16765578635014836\n",
      "elevator_platform 0.16765578635014836\n",
      "audio_induction_loop 0.16765578635014836\n",
      "sales_open_monday 0.7997032640949555\n",
      "sales_close_monday 0.7997032640949555\n",
      "sales_open_tuesday 0.7997032640949555\n",
      "sales_close_tuesday 0.7997032640949555\n",
      "sales_open_wednesday 0.7997032640949555\n",
      "sales_close_wednesday 0.7997032640949555\n",
      "sales_open_thursday 0.7997032640949555\n",
      "sales_close_thursday 0.7997032640949555\n",
      "sales_open_friday 0.7997032640949555\n",
      "sales_close_friday 0.7997032640949555\n",
      "sales_open_saturday 0.8738872403560831\n",
      "sales_close_saturday 0.8738872403560831\n",
      "sales_open_sunday 0.8961424332344213\n",
      "sales_close_sunday 0.8961424332344213\n"
     ]
    }
   ],
   "source": [
    "# check number of missing values per variable\n",
    "for col in facilities.columns:\n",
    "    missings = len(facilities[col][facilities[col].isnull()]) / float(len(facilities))\n",
    "    print(col, missings)"
   ]
  },
  {
   "cell_type": "code",
   "execution_count": 12,
   "metadata": {},
   "outputs": [
    {
     "data": {
      "text/plain": [
       "URI                        object\n",
       "name                       object\n",
       "street                     object\n",
       "zip                        object\n",
       "city                       object\n",
       "ticket_vending_machine    float64\n",
       "luggage_lockers           float64\n",
       "free_parking              float64\n",
       "taxi                      float64\n",
       "bicycle_spots             float64\n",
       "blue-bike                 float64\n",
       "bus                       float64\n",
       "tram                      float64\n",
       "metro                     float64\n",
       "wheelchair_available      float64\n",
       "ramp                      float64\n",
       "disabled_parking_spots    float64\n",
       "elevated_platform         float64\n",
       "escalator_up              float64\n",
       "escalator_down            float64\n",
       "elevator_platform         float64\n",
       "audio_induction_loop      float64\n",
       "sales_open_monday          object\n",
       "sales_close_monday         object\n",
       "sales_open_tuesday         object\n",
       "sales_close_tuesday        object\n",
       "sales_open_wednesday       object\n",
       "sales_close_wednesday      object\n",
       "sales_open_thursday        object\n",
       "sales_close_thursday       object\n",
       "sales_open_friday          object\n",
       "sales_close_friday         object\n",
       "sales_open_saturday        object\n",
       "sales_close_saturday       object\n",
       "sales_open_sunday          object\n",
       "sales_close_sunday         object\n",
       "dtype: object"
      ]
     },
     "execution_count": 12,
     "metadata": {},
     "output_type": "execute_result"
    }
   ],
   "source": [
    "#Check data type of columns\n",
    "facilities.dtypes"
   ]
  },
  {
   "cell_type": "code",
   "execution_count": 30,
   "metadata": {},
   "outputs": [],
   "source": [
    "facilities['sales_open_monday2'] = pd.to_datetime(facilities['sales_open_monday'].astype(str), format='%H:%M')-pd.to_datetime('00:00', format = '%H:%M')"
   ]
  },
  {
   "cell_type": "code",
   "execution_count": 31,
   "metadata": {},
   "outputs": [
    {
     "data": {
      "text/plain": [
       "URI                                object\n",
       "name                               object\n",
       "street                             object\n",
       "zip                                object\n",
       "city                               object\n",
       "ticket_vending_machine            float64\n",
       "luggage_lockers                   float64\n",
       "free_parking                      float64\n",
       "taxi                              float64\n",
       "bicycle_spots                     float64\n",
       "blue-bike                         float64\n",
       "bus                               float64\n",
       "tram                              float64\n",
       "metro                             float64\n",
       "wheelchair_available              float64\n",
       "ramp                              float64\n",
       "disabled_parking_spots            float64\n",
       "elevated_platform                 float64\n",
       "escalator_up                      float64\n",
       "escalator_down                    float64\n",
       "elevator_platform                 float64\n",
       "audio_induction_loop              float64\n",
       "sales_open_monday                  object\n",
       "sales_close_monday                 object\n",
       "sales_open_tuesday                 object\n",
       "sales_close_tuesday                object\n",
       "sales_open_wednesday               object\n",
       "sales_close_wednesday              object\n",
       "sales_open_thursday                object\n",
       "sales_close_thursday               object\n",
       "sales_open_friday                  object\n",
       "sales_close_friday                 object\n",
       "sales_open_saturday                object\n",
       "sales_close_saturday               object\n",
       "sales_open_sunday                  object\n",
       "sales_close_sunday                 object\n",
       "sales_open_monday2        timedelta64[ns]\n",
       "dtype: object"
      ]
     },
     "execution_count": 31,
     "metadata": {},
     "output_type": "execute_result"
    }
   ],
   "source": [
    "#See new column is of type timedelta64\n",
    "facilities.dtypes"
   ]
  },
  {
   "cell_type": "code",
   "execution_count": 33,
   "metadata": {},
   "outputs": [],
   "source": [
    "#For instance only use subset of 'late openers'\n",
    "late_openers = facilities[facilities['sales_open_monday2'] > pd.Timedelta(8,'h')]"
   ]
  },
  {
   "cell_type": "code",
   "execution_count": 35,
   "metadata": {},
   "outputs": [
    {
     "data": {
      "text/plain": [
       "158    11:15\n",
       "257    15:15\n",
       "Name: sales_open_monday, dtype: object"
      ]
     },
     "execution_count": 35,
     "metadata": {},
     "output_type": "execute_result"
    }
   ],
   "source": [
    "late_openers['sales_open_monday']"
   ]
  },
  {
   "cell_type": "code",
   "execution_count": 36,
   "metadata": {},
   "outputs": [],
   "source": [
    "#Or use it to impute missing values\n",
    "facilities['sales_open_monday2'].fillna((facilities['sales_open_monday2'].mean()), inplace=True)"
   ]
  },
  {
   "cell_type": "code",
   "execution_count": 37,
   "metadata": {},
   "outputs": [
    {
     "name": "stdout",
     "output_type": "stream",
     "text": [
      "URI 0.0\n",
      "name 0.0\n",
      "street 0.17210682492581603\n",
      "zip 0.17359050445103857\n",
      "city 0.17359050445103857\n",
      "ticket_vending_machine 0.16765578635014836\n",
      "luggage_lockers 0.16765578635014836\n",
      "free_parking 0.16765578635014836\n",
      "taxi 0.16765578635014836\n",
      "bicycle_spots 0.16765578635014836\n",
      "blue-bike 0.16765578635014836\n",
      "bus 0.16765578635014836\n",
      "tram 0.16765578635014836\n",
      "metro 0.16765578635014836\n",
      "wheelchair_available 0.16765578635014836\n",
      "ramp 0.16765578635014836\n",
      "disabled_parking_spots 0.16765578635014836\n",
      "elevated_platform 0.16765578635014836\n",
      "escalator_up 0.16765578635014836\n",
      "escalator_down 0.16765578635014836\n",
      "elevator_platform 0.16765578635014836\n",
      "audio_induction_loop 0.16765578635014836\n",
      "sales_open_monday 0.7997032640949555\n",
      "sales_close_monday 0.7997032640949555\n",
      "sales_open_tuesday 0.7997032640949555\n",
      "sales_close_tuesday 0.7997032640949555\n",
      "sales_open_wednesday 0.7997032640949555\n",
      "sales_close_wednesday 0.7997032640949555\n",
      "sales_open_thursday 0.7997032640949555\n",
      "sales_close_thursday 0.7997032640949555\n",
      "sales_open_friday 0.7997032640949555\n",
      "sales_close_friday 0.7997032640949555\n",
      "sales_open_saturday 0.8738872403560831\n",
      "sales_close_saturday 0.8738872403560831\n",
      "sales_open_sunday 0.8961424332344213\n",
      "sales_close_sunday 0.8961424332344213\n",
      "sales_open_monday2 0.0\n"
     ]
    }
   ],
   "source": [
    "# check number of missing values per variable\n",
    "for col in facilities.columns:\n",
    "    missings = len(facilities[col][facilities[col].isnull()]) / float(len(facilities))\n",
    "    print(col, missings)"
   ]
  },
  {
   "cell_type": "markdown",
   "metadata": {},
   "source": [
    "## Travelers"
   ]
  },
  {
   "cell_type": "code",
   "execution_count": 59,
   "metadata": {},
   "outputs": [],
   "source": [
    "# import data\n",
    "travelers = pd.read_excel(\"./travelers.xlsx\", header=1)"
   ]
  },
  {
   "cell_type": "code",
   "execution_count": 60,
   "metadata": {
    "scrolled": true
   },
   "outputs": [
    {
     "data": {
      "text/html": [
       "<div>\n",
       "<style scoped>\n",
       "    .dataframe tbody tr th:only-of-type {\n",
       "        vertical-align: middle;\n",
       "    }\n",
       "\n",
       "    .dataframe tbody tr th {\n",
       "        vertical-align: top;\n",
       "    }\n",
       "\n",
       "    .dataframe thead th {\n",
       "        text-align: right;\n",
       "    }\n",
       "</style>\n",
       "<table border=\"1\" class=\"dataframe\">\n",
       "  <thead>\n",
       "    <tr style=\"text-align: right;\">\n",
       "      <th></th>\n",
       "      <th>Unnamed: 0</th>\n",
       "      <th>Station</th>\n",
       "      <th>Avg number of travelers in the week</th>\n",
       "      <th>Avg number of travelers on Saturday</th>\n",
       "      <th>Avg number of travelers on Sunday</th>\n",
       "    </tr>\n",
       "  </thead>\n",
       "  <tbody>\n",
       "    <tr>\n",
       "      <td>0</td>\n",
       "      <td>0</td>\n",
       "      <td>AALST</td>\n",
       "      <td>6444.0</td>\n",
       "      <td>1768.0</td>\n",
       "      <td>1592.0</td>\n",
       "    </tr>\n",
       "    <tr>\n",
       "      <td>1</td>\n",
       "      <td>1</td>\n",
       "      <td>AALST-KERREBROEK</td>\n",
       "      <td>27.0</td>\n",
       "      <td>NaN</td>\n",
       "      <td>NaN</td>\n",
       "    </tr>\n",
       "    <tr>\n",
       "      <td>2</td>\n",
       "      <td>2</td>\n",
       "      <td>AALTER</td>\n",
       "      <td>2288.0</td>\n",
       "      <td>1055.0</td>\n",
       "      <td>855.0</td>\n",
       "    </tr>\n",
       "    <tr>\n",
       "      <td>3</td>\n",
       "      <td>3</td>\n",
       "      <td>AARSCHOT</td>\n",
       "      <td>627.0</td>\n",
       "      <td>1954.0</td>\n",
       "      <td>1395.0</td>\n",
       "    </tr>\n",
       "    <tr>\n",
       "      <td>4</td>\n",
       "      <td>4</td>\n",
       "      <td>AARSELE</td>\n",
       "      <td>34.0</td>\n",
       "      <td>NaN</td>\n",
       "      <td>NaN</td>\n",
       "    </tr>\n",
       "  </tbody>\n",
       "</table>\n",
       "</div>"
      ],
      "text/plain": [
       "   Unnamed: 0           Station  Avg number of travelers in the week  \\\n",
       "0           0             AALST                               6444.0   \n",
       "1           1  AALST-KERREBROEK                                 27.0   \n",
       "2           2            AALTER                               2288.0   \n",
       "3           3          AARSCHOT                                627.0   \n",
       "4           4           AARSELE                                 34.0   \n",
       "\n",
       "   Avg number of travelers on Saturday  Avg number of travelers on Sunday  \n",
       "0                               1768.0                             1592.0  \n",
       "1                                  NaN                                NaN  \n",
       "2                               1055.0                              855.0  \n",
       "3                               1954.0                             1395.0  \n",
       "4                                  NaN                                NaN  "
      ]
     },
     "execution_count": 60,
     "metadata": {},
     "output_type": "execute_result"
    }
   ],
   "source": [
    "# check\n",
    "travelers.head(5)"
   ]
  },
  {
   "cell_type": "code",
   "execution_count": 61,
   "metadata": {},
   "outputs": [],
   "source": [
    "# rename\n",
    "travelers = travelers.rename({\"Avg number of travelers in the week\": \"week\",\n",
    "                              \"Avg number of travelers on Saturday\": \"saturday\",\n",
    "                              \"Avg number of travelers on Sunday\": \"sunday\"}, axis=1)"
   ]
  },
  {
   "cell_type": "code",
   "execution_count": 62,
   "metadata": {},
   "outputs": [
    {
     "name": "stdout",
     "output_type": "stream",
     "text": [
      "Unnamed: 0 0.0\n",
      "Station 0.0\n",
      "week 0.003616636528028933\n",
      "saturday 0.11392405063291139\n",
      "sunday 0.11211573236889692\n"
     ]
    }
   ],
   "source": [
    "# check number of missing values per variable\n",
    "for col in travelers.columns:\n",
    "    missings = len(travelers[col][travelers[col].isnull()]) / float(len(travelers))\n",
    "    print(col, missings)"
   ]
  },
  {
   "cell_type": "code",
   "execution_count": 68,
   "metadata": {},
   "outputs": [
    {
     "name": "stdout",
     "output_type": "stream",
     "text": [
      "     Unnamed: 0                 Station   week  saturday  sunday\n",
      "1             1        AALST-KERREBROEK   27.0       NaN     NaN\n",
      "4             4                 AARSELE   34.0       NaN     NaN\n",
      "20           20                 ANZEGEM  188.0       NaN     NaN\n",
      "22           22                 ARCADES   86.0       NaN     NaN\n",
      "29           29                 AUBANGE   62.0       NaN     NaN\n",
      "33           33           BAASRODE-ZUID  216.0       NaN     NaN\n",
      "35           35            BALEGEM-ZUID  222.0       NaN     NaN\n",
      "37           37               BAMBRUGGE   50.0       NaN     NaN\n",
      "43           43                 BEERSEL  197.0       NaN     NaN\n",
      "46           46                 BEIGNEE   20.0       NaN     NaN\n",
      "65           65                  BLERET   51.0       NaN     NaN\n",
      "84           84         BRU.-CHAP./KAP.  107.0       NaN     NaN\n",
      "85           85              BRU.-CONG.  465.0       NaN     NaN\n",
      "95           95                    BUDA   65.0       NaN     NaN\n",
      "99           99              CALLENELLE   12.0       NaN     NaN\n",
      "104         104           CHAPELLE-DIEU   47.0       NaN     NaN\n",
      "117         117                COUILLET   88.0       NaN     NaN\n",
      "128         128                   DELTA  396.0       NaN     NaN\n",
      "142         142                     EDE  431.0       NaN     NaN\n",
      "151         151               ERBISOEUL   63.0       NaN     NaN\n",
      "154         154               ERPE-MERE   59.0       NaN     NaN\n",
      "166         166            FAMILLEUREUX   67.0       NaN     NaN\n",
      "183         183               FRAMERIES  258.0       NaN     NaN\n",
      "195         195                   GENLY  137.0       NaN     NaN\n",
      "202         202                   GHLIN   56.0       NaN     NaN\n",
      "217         217                 HALANZY   78.0       NaN     NaN\n",
      "220         220                  HAMBOS   39.0       NaN     NaN\n",
      "224         224                HARCHIES   17.0       NaN     NaN\n",
      "246         246                   HEVER  135.0       NaN     NaN\n",
      "248         248                HILLEGEM  103.0       NaN     NaN\n",
      "251         251                HOFSTADE   63.0       NaN     NaN\n",
      "255         255                 HOURPES    7.0       NaN     NaN\n",
      "258         258               HUIZINGEN  227.0       NaN     NaN\n",
      "295         295             LANDSKOUTER   87.0       NaN     NaN\n",
      "297         297           LE CAMPINAIRE   73.0       NaN     NaN\n",
      "301         301                   LEMAN   76.0       NaN     NaN\n",
      "339         339  MARCHE-LEZ-ECAUSSINNES  132.0       NaN     NaN\n",
      "345         345     MASNUY-SAINT-PIERRE   30.0       NaN     NaN\n",
      "346         346                 MAUBRAY   15.0       NaN     NaN\n",
      "347         347                    MAZY   24.0       NaN     NaN\n",
      "354         354                 MELSELE  298.0       NaN     NaN\n",
      "358         358                  MERODE  550.0       NaN     NaN\n",
      "360         360                MESSANCY  108.0       NaN     NaN\n",
      "361         361        MEVERGNIES-ATTRE   84.0       NaN     NaN\n",
      "363         363               MOENSBERG  245.0       NaN     NaN\n",
      "372         372  MORTSEL-DEURNESTEENWEG    NaN       NaN    31.0\n",
      "387         387              NEUFVILLES   54.0       NaN     NaN\n",
      "396         396             OBAIX-BUZET  184.0       NaN     NaN\n",
      "397         397                  OBOURG   49.0       NaN     NaN\n",
      "405         405                 OUDEGEM  181.0       NaN     NaN\n",
      "423         423                     PRY   25.0       NaN     NaN\n",
      "426         426                   QUEVY  175.0       NaN     NaN\n",
      "449         449                SCLESSIN   38.0       NaN     NaN\n",
      "460         460        ST-DENIJS-BOEKEL  152.0       NaN     NaN\n",
      "477         477                TERHAGEN  196.0       NaN     NaN\n",
      "506         506                  VICHTE  212.0       NaN     NaN\n",
      "508         508              VIJFHUIZEN   38.0       NaN     NaN\n",
      "509         509        VILLE-POMMEROEUL   28.0       NaN     NaN\n",
      "516         516                  VOROUX   60.0       NaN     NaN\n",
      "526         526                   WELLE  128.0       NaN     NaN\n",
      "532         532                WICHELEN  204.0       NaN     NaN\n",
      "536         536                WOLFSTEE   36.0       NaN     NaN\n",
      "543         543          ZEEBRUGGE-DORP  290.0       NaN     NaN\n",
      "544         544        ZEEBRUGGE-STRAND    NaN      35.0    42.0\n"
     ]
    }
   ],
   "source": [
    "#Check missings\n",
    "#Change settings to visualize ALL rows\n",
    "pd.set_option('display.max_rows', None)\n",
    "print(travelers[travelers.isnull().any(axis=1)])\n",
    "\n",
    "#Change settings back\n",
    "pd.reset_option('display.max_rows')"
   ]
  },
  {
   "cell_type": "code",
   "execution_count": 69,
   "metadata": {},
   "outputs": [],
   "source": [
    "#Interesting: never completely missing\n",
    "#Inspection Wikipedia and NMBS website revealed no train rides on these dates for these stations (e.g., Baasrode-Zuid & Buda only train rides during the week)\n",
    "#Therefore we impute every missing value with zero\n",
    "\n",
    "travelers['week'].fillna(0, inplace=True)\n",
    "travelers['saturday'].fillna(0, inplace=True)\n",
    "travelers['sunday'].fillna(0, inplace=True)"
   ]
  },
  {
   "cell_type": "code",
   "execution_count": 70,
   "metadata": {},
   "outputs": [],
   "source": [
    "# create total\n",
    "travelers[\"week_total\"] = 5 * travelers[\"week\"] + travelers[\"saturday\"] + travelers[\"sunday\"]"
   ]
  },
  {
   "cell_type": "code",
   "execution_count": 71,
   "metadata": {},
   "outputs": [],
   "source": [
    "# get weekend avg\n",
    "travelers[\"weekend\"] = (travelers[\"sunday\"] + travelers[\"saturday\"]) / float(2)"
   ]
  },
  {
   "cell_type": "code",
   "execution_count": 72,
   "metadata": {},
   "outputs": [],
   "source": [
    "# get avg traveles per day\n",
    "travelers[\"avg_day\"] = travelers[\"week_total\"] / float(7)"
   ]
  },
  {
   "cell_type": "code",
   "execution_count": 73,
   "metadata": {},
   "outputs": [
    {
     "data": {
      "text/html": [
       "<div>\n",
       "<style scoped>\n",
       "    .dataframe tbody tr th:only-of-type {\n",
       "        vertical-align: middle;\n",
       "    }\n",
       "\n",
       "    .dataframe tbody tr th {\n",
       "        vertical-align: top;\n",
       "    }\n",
       "\n",
       "    .dataframe thead th {\n",
       "        text-align: right;\n",
       "    }\n",
       "</style>\n",
       "<table border=\"1\" class=\"dataframe\">\n",
       "  <thead>\n",
       "    <tr style=\"text-align: right;\">\n",
       "      <th></th>\n",
       "      <th>Station</th>\n",
       "      <th>week</th>\n",
       "    </tr>\n",
       "  </thead>\n",
       "  <tbody>\n",
       "    <tr>\n",
       "      <td>88</td>\n",
       "      <td>BRU.-NOORD/NORD</td>\n",
       "      <td>63779.0</td>\n",
       "    </tr>\n",
       "    <tr>\n",
       "      <td>83</td>\n",
       "      <td>BRU.-CENT.</td>\n",
       "      <td>60706.0</td>\n",
       "    </tr>\n",
       "    <tr>\n",
       "      <td>197</td>\n",
       "      <td>GENT-SINT-PIETERS</td>\n",
       "      <td>55325.0</td>\n",
       "    </tr>\n",
       "    <tr>\n",
       "      <td>16</td>\n",
       "      <td>ANTWERPEN-CAAL</td>\n",
       "      <td>39628.0</td>\n",
       "    </tr>\n",
       "    <tr>\n",
       "      <td>306</td>\n",
       "      <td>LEUVEN</td>\n",
       "      <td>34688.0</td>\n",
       "    </tr>\n",
       "  </tbody>\n",
       "</table>\n",
       "</div>"
      ],
      "text/plain": [
       "               Station     week\n",
       "88     BRU.-NOORD/NORD  63779.0\n",
       "83          BRU.-CENT.  60706.0\n",
       "197  GENT-SINT-PIETERS  55325.0\n",
       "16      ANTWERPEN-CAAL  39628.0\n",
       "306             LEUVEN  34688.0"
      ]
     },
     "execution_count": 73,
     "metadata": {},
     "output_type": "execute_result"
    }
   ],
   "source": [
    "# check top 5 stations with highest number of travelers in weekend\n",
    "travelers.sort_values(by=\"week\", ascending=False)[[\"Station\", \"week\"]].head(5)"
   ]
  },
  {
   "cell_type": "code",
   "execution_count": 74,
   "metadata": {},
   "outputs": [
    {
     "data": {
      "text/html": [
       "<div>\n",
       "<style scoped>\n",
       "    .dataframe tbody tr th:only-of-type {\n",
       "        vertical-align: middle;\n",
       "    }\n",
       "\n",
       "    .dataframe tbody tr th {\n",
       "        vertical-align: top;\n",
       "    }\n",
       "\n",
       "    .dataframe thead th {\n",
       "        text-align: right;\n",
       "    }\n",
       "</style>\n",
       "<table border=\"1\" class=\"dataframe\">\n",
       "  <thead>\n",
       "    <tr style=\"text-align: right;\">\n",
       "      <th></th>\n",
       "      <th>Station</th>\n",
       "      <th>weekend</th>\n",
       "    </tr>\n",
       "  </thead>\n",
       "  <tbody>\n",
       "    <tr>\n",
       "      <td>87</td>\n",
       "      <td>BRU.-MIDI/ZUID</td>\n",
       "      <td>24133.5</td>\n",
       "    </tr>\n",
       "    <tr>\n",
       "      <td>197</td>\n",
       "      <td>GENT-SINT-PIETERS</td>\n",
       "      <td>22951.0</td>\n",
       "    </tr>\n",
       "    <tr>\n",
       "      <td>83</td>\n",
       "      <td>BRU.-CENT.</td>\n",
       "      <td>22681.5</td>\n",
       "    </tr>\n",
       "    <tr>\n",
       "      <td>16</td>\n",
       "      <td>ANTWERPEN-CAAL</td>\n",
       "      <td>21235.5</td>\n",
       "    </tr>\n",
       "    <tr>\n",
       "      <td>306</td>\n",
       "      <td>LEUVEN</td>\n",
       "      <td>12525.5</td>\n",
       "    </tr>\n",
       "  </tbody>\n",
       "</table>\n",
       "</div>"
      ],
      "text/plain": [
       "               Station  weekend\n",
       "87      BRU.-MIDI/ZUID  24133.5\n",
       "197  GENT-SINT-PIETERS  22951.0\n",
       "83          BRU.-CENT.  22681.5\n",
       "16      ANTWERPEN-CAAL  21235.5\n",
       "306             LEUVEN  12525.5"
      ]
     },
     "execution_count": 74,
     "metadata": {},
     "output_type": "execute_result"
    }
   ],
   "source": [
    "# check top 5 stations with highest number of travelers in week\n",
    "travelers.sort_values(by=\"weekend\", ascending=False)[[\"Station\", \"weekend\"]].head(5)"
   ]
  },
  {
   "cell_type": "markdown",
   "metadata": {},
   "source": [
    "Most remarkable differences are between Brussels Midi and Brussels North. North is in the middle of business centre ==> attracts many commuters during the week while Brussels Midi is the most important international railway station of Belgium and thus attracts many tourists. Also notice how Antwerpen and Leuven almost have equal travellers during the week and are off by almost a factor two during the weekend. This could signify a more or less equal commute potential but a far greater touristic potential for Antwerp. However, both are edjucated guesses based on my personal knowledge about the country. Implementing this mathematical and on a larger scale requires external data!"
   ]
  },
  {
   "cell_type": "markdown",
   "metadata": {},
   "source": [
    "Other explanations for the commute numbers may possible lay in the number of facilities. As a proof of concept, let's try to mathematically proof whether weekly commute numbers are linked to availabilty of free parking and/or tram stations nearby. To do so, we will link the facilities and travelers datasets. We will impute missing values of free parking and tram with these facilities not being available. However, do note that this is not necessarily the best assumption!"
   ]
  },
  {
   "cell_type": "code",
   "execution_count": 75,
   "metadata": {},
   "outputs": [],
   "source": [
    "#Impute columns with zero values\n",
    "facilities['free_parking'].fillna(0, inplace=True)\n",
    "facilities['tram'].fillna(0, inplace=True)"
   ]
  },
  {
   "cell_type": "code",
   "execution_count": 76,
   "metadata": {},
   "outputs": [
    {
     "data": {
      "text/plain": [
       "(674, 37)"
      ]
     },
     "execution_count": 76,
     "metadata": {},
     "output_type": "execute_result"
    }
   ],
   "source": [
    "facilities.shape"
   ]
  },
  {
   "cell_type": "code",
   "execution_count": 77,
   "metadata": {},
   "outputs": [
    {
     "data": {
      "text/plain": [
       "(553, 8)"
      ]
     },
     "execution_count": 77,
     "metadata": {},
     "output_type": "execute_result"
    }
   ],
   "source": [
    "travelers.shape"
   ]
  },
  {
   "cell_type": "code",
   "execution_count": 79,
   "metadata": {},
   "outputs": [],
   "source": [
    "#Problem: no exact match in traveler/facilities information\n",
    "#Assumption: travelers is subset of facilities\n",
    "\n",
    "#Convert to lower case\n",
    "facilities['name'] = facilities['name'].str.lower()\n",
    "travelers['Station'] =  travelers['Station'].str.lower()"
   ]
  },
  {
   "cell_type": "code",
   "execution_count": 82,
   "metadata": {},
   "outputs": [
    {
     "data": {
      "text/plain": [
       "473"
      ]
     },
     "execution_count": 82,
     "metadata": {},
     "output_type": "execute_result"
    }
   ],
   "source": [
    "#Check overlap\n",
    "len(list(set(facilities['name']).intersection(set(travelers['Station']))))"
   ]
  },
  {
   "cell_type": "code",
   "execution_count": 84,
   "metadata": {},
   "outputs": [],
   "source": [
    "#Around 80 which will need manual imputation\n",
    "intersection = list(set(facilities['name']).intersection(set(travelers['Station'])))\n",
    "\n",
    "still_needed = set(travelers['Station']).difference(intersection)"
   ]
  },
  {
   "cell_type": "code",
   "execution_count": 86,
   "metadata": {},
   "outputs": [
    {
     "data": {
      "text/plain": [
       "80"
      ]
     },
     "execution_count": 86,
     "metadata": {},
     "output_type": "execute_result"
    }
   ],
   "source": [
    "len(still_needed)"
   ]
  },
  {
   "cell_type": "code",
   "execution_count": 87,
   "metadata": {},
   "outputs": [
    {
     "data": {
      "text/plain": [
       "{'antwerpen-caal',\n",
       " 'arcades',\n",
       " 'beignee',\n",
       " 'berchem-st-ag.-berchem',\n",
       " 'berzee',\n",
       " 'boitsfort/bosvoorde',\n",
       " 'boondael/boondaal',\n",
       " 'bru. airport - zaventem',\n",
       " 'bru.-cent.',\n",
       " 'bru.-chap./kap.',\n",
       " 'bru.-cong.',\n",
       " 'bru.-luxembg',\n",
       " 'bru.-midi/zuid',\n",
       " 'bru.-noord/nord',\n",
       " 'bru.-schuman',\n",
       " 'bru.-west/ouest',\n",
       " 'chateau-de-seilles',\n",
       " 'chatelet',\n",
       " 'chenee',\n",
       " 'comines/komen',\n",
       " 'courriere',\n",
       " 'court-saint-etienne',\n",
       " 'ecaussinnes',\n",
       " 'enghien/edingen',\n",
       " 'erbisoeul',\n",
       " 'fexhe-le-ht-clocher',\n",
       " 'forest-est/vorst-oost',\n",
       " 'forest-midi/vorst-zuid',\n",
       " 'forrieres',\n",
       " 'franiere',\n",
       " 'germoir/mouterij',\n",
       " 'haren-zuid/sud',\n",
       " 'haute-flone',\n",
       " 'hennuyeres',\n",
       " 'jurbise',\n",
       " 'la louviere-centre',\n",
       " 'la louviere-sud',\n",
       " 'la roche',\n",
       " 'labuissiere',\n",
       " 'lessines',\n",
       " 'liege-carre',\n",
       " 'liege-guillemins',\n",
       " 'liege-saint-lambert',\n",
       " 'lonzee',\n",
       " 'marche-lez-ecaussinnes',\n",
       " 'mery',\n",
       " 'mortsel-oude-god',\n",
       " 'mouscron/moeskroen',\n",
       " 'nameche',\n",
       " 'neufchateau',\n",
       " 'ougree',\n",
       " 'papignies',\n",
       " 'pecrot',\n",
       " 'pepinster-cite',\n",
       " 'peruwelz',\n",
       " 'pieton',\n",
       " 'pont-a-celles',\n",
       " 'ronse/renaix',\n",
       " 'ruisbr.-sauvegarde',\n",
       " 'spa-geronstere',\n",
       " 'st-denijs-boekel',\n",
       " 'st-denis-bovesse',\n",
       " 'st-gen-rode/rhode-st-gen',\n",
       " 'st-ghislain',\n",
       " 'st-gillis',\n",
       " 'st-job',\n",
       " 'st-joris-weert',\n",
       " 'st-katelijne-waver',\n",
       " 'st-mariaburg',\n",
       " 'st-martens-bodegem',\n",
       " 'st-niklaas',\n",
       " 'st-truiden',\n",
       " 'tour et taxis/thurn en taxis',\n",
       " 'uccle/ukkel-calevoet',\n",
       " 'uccle/ukkel-stalle',\n",
       " 'ville-pommeroeul',\n",
       " 'vise',\n",
       " \"vivier d'oie/diesdelle\",\n",
       " 'watermael/watermaal',\n",
       " 'yves-gomezee'}"
      ]
     },
     "execution_count": 87,
     "metadata": {},
     "output_type": "execute_result"
    }
   ],
   "source": [
    "still_needed"
   ]
  },
  {
   "cell_type": "code",
   "execution_count": 88,
   "metadata": {},
   "outputs": [],
   "source": [
    "facility_names = set(facilities['name']).difference(intersection)"
   ]
  },
  {
   "cell_type": "code",
   "execution_count": 89,
   "metadata": {},
   "outputs": [
    {
     "data": {
      "text/plain": [
       "{'aachen hbf',\n",
       " 'agde',\n",
       " 'aime-la-plagne',\n",
       " 'aix-en-provence tgv',\n",
       " 'albertville',\n",
       " 'amsterdam cs',\n",
       " 'annappes',\n",
       " 'antibes',\n",
       " 'antwerpen-centraal',\n",
       " 'antwerpen-dam',\n",
       " 'antwerpen-haven',\n",
       " 'antwerpen-oost',\n",
       " 'arcaden/arcades',\n",
       " 'arras',\n",
       " 'ascq',\n",
       " 'athus-frontiere',\n",
       " 'aubange-frontiere-luxembourg',\n",
       " 'aulnoye-aymeries',\n",
       " 'avignon tgv',\n",
       " 'aéroport charles-de-gaulle tgv',\n",
       " 'baisieux',\n",
       " 'basel',\n",
       " 'bastogne-nord',\n",
       " 'bastogne-sud',\n",
       " 'beignée',\n",
       " 'bertrange strassen',\n",
       " 'berzée',\n",
       " 'blandain-frontiere',\n",
       " 'boondaal/boondael',\n",
       " 'bosvoorde/boitsfort',\n",
       " 'bourg-saint-maurice',\n",
       " 'breda',\n",
       " 'brussel-centraal/bruxelles-central',\n",
       " 'brussel-congres/bruxelles-congrès',\n",
       " 'brussel-kapellekerk/bruxelles-chapelle',\n",
       " 'brussel-luxemburg/bruxelles-luxembourg',\n",
       " 'brussel-noord/bruxelles-nord',\n",
       " 'brussel-schuman/bruxelles-schuman',\n",
       " 'brussel-west/bruxelles-ouest',\n",
       " 'brussel-zuid/bruxelles-midi',\n",
       " 'brussels airport - zaventem',\n",
       " 'béziers',\n",
       " 'cannes',\n",
       " 'capellen',\n",
       " 'chambéry-challes-les-eaux',\n",
       " 'château-de-seilles',\n",
       " 'châtelet',\n",
       " 'chênée',\n",
       " 'clervaux',\n",
       " 'colmar',\n",
       " 'comines',\n",
       " 'courrière',\n",
       " 'court-saint-étienne',\n",
       " \"croix l'allumette\",\n",
       " 'croix wasquehal',\n",
       " 'den haag hs',\n",
       " \"diesdelle/vivier d'oie\",\n",
       " 'dommeldange',\n",
       " 'dordrecht',\n",
       " 'dortmund hbf',\n",
       " 'drauffelt',\n",
       " 'duesseldorf flughafen (de)',\n",
       " 'duesseldorf hbf',\n",
       " 'duisburg hbf',\n",
       " 'düsseldorf flughafen hbf',\n",
       " 'ebbsfleet international',\n",
       " 'eijsden',\n",
       " 'enghien',\n",
       " 'erbisœul',\n",
       " 'erquelinnes-frontière',\n",
       " 'essen hbf',\n",
       " 'essen-grens',\n",
       " 'ettelbréck',\n",
       " 'fexhe-le-haut-clocher',\n",
       " 'florée',\n",
       " 'forrières',\n",
       " 'franière',\n",
       " 'frankfurt am main flughafen fernbf',\n",
       " 'frankfurt am main flughafen reginalbf',\n",
       " 'frankfurt am main hbf',\n",
       " 'goebelsmühle',\n",
       " 'gouvy-frontiere',\n",
       " 'ham-sur-sambre',\n",
       " 'haren-sud/haren-zuid',\n",
       " 'haute-flône',\n",
       " 'haute-picardie tgv',\n",
       " 'hellemmes',\n",
       " 'hennuyères',\n",
       " 'hergenrath-frontiere',\n",
       " 'jurbeke',\n",
       " 'kautebaach',\n",
       " 'klengbetten',\n",
       " 'köln hbf',\n",
       " 'la louvière-centre',\n",
       " 'la louvière-sud',\n",
       " 'la roche (brabant)',\n",
       " 'labuissière',\n",
       " 'landry',\n",
       " 'les arcs - draguignan',\n",
       " 'lessen',\n",
       " 'lezennes',\n",
       " 'lille europe',\n",
       " 'lille flandres',\n",
       " 'limburg süd',\n",
       " 'liège-carré',\n",
       " 'liège-guillemins',\n",
       " 'liège-saint-lambert',\n",
       " 'london saint pancras international',\n",
       " 'lonzée',\n",
       " 'lorraine tgv',\n",
       " 'lyon part dieu tgv',\n",
       " 'lyon-perrache tgv',\n",
       " 'lyon-saint exupéry tgv',\n",
       " 'lëtzebuerg',\n",
       " 'maastricht',\n",
       " 'maastricht randwyck',\n",
       " 'mamer',\n",
       " 'mamer-lycée',\n",
       " 'marche-lez-écaussinnes',\n",
       " 'marne-la-vallée - chessy',\n",
       " 'marseille-saint-charles',\n",
       " 'massy tgv',\n",
       " 'maubeuge',\n",
       " 'melle pw',\n",
       " 'mersch',\n",
       " 'metz',\n",
       " 'michelau',\n",
       " 'montpellier',\n",
       " 'mortsel-oude god',\n",
       " 'mouscron',\n",
       " 'mouscron-frontiere',\n",
       " 'mouterij/germoir',\n",
       " 'moûtiers-salins-brides-les-bai',\n",
       " 'mulhouse',\n",
       " 'méry',\n",
       " 'namêche',\n",
       " 'narbonne',\n",
       " 'neufchâteau',\n",
       " 'nice ville',\n",
       " 'nîmes',\n",
       " 'ougrée',\n",
       " 'papegem',\n",
       " 'paris nord',\n",
       " 'pepinster-cité',\n",
       " 'perpignan',\n",
       " 'petange',\n",
       " 'pfaffenthal-kirchberg',\n",
       " 'piéton',\n",
       " 'pont de bois',\n",
       " 'pont-à-celles',\n",
       " 'pécrot',\n",
       " 'péruwelz',\n",
       " 'quevy-frontiere',\n",
       " 'rodange',\n",
       " 'ronse',\n",
       " 'roosendaal',\n",
       " 'rotterdam cs',\n",
       " 'roubaix',\n",
       " 'ruisbroek-sauvegarde',\n",
       " 'saint-denis-bovesse',\n",
       " 'saint-ghislain',\n",
       " 'saint-louis-haut-rhin',\n",
       " 'saint-raphaël-valescure',\n",
       " 'saverne',\n",
       " 'schiphol',\n",
       " 'selestat',\n",
       " 'siegburg',\n",
       " 'sint-agatha-berchem/berchem-sainte-agathe',\n",
       " 'sint-denijs-boekel',\n",
       " 'sint-genesius-rode',\n",
       " 'sint-gillis-dendermonde',\n",
       " 'sint-job',\n",
       " 'sint-joris-weert',\n",
       " 'sint-katelijne-waver',\n",
       " 'sint-mariaburg',\n",
       " 'sint-martens-bodegem',\n",
       " 'sint-niklaas',\n",
       " 'sint-truiden',\n",
       " 'spa-géronstère',\n",
       " 'sterpenich-frontiere',\n",
       " 'strasbourg',\n",
       " 'sète',\n",
       " 'thionville',\n",
       " 'thurn en taxis/tour et taxis',\n",
       " 'toulon',\n",
       " 'tourcoing',\n",
       " 'troisvierges',\n",
       " 'ukkel-kalevoet/uccle-calevoet',\n",
       " 'ukkel-stalle/uccle-stalle',\n",
       " 'valence tgv',\n",
       " 'ville-pommerœul',\n",
       " 'vise-frontiere',\n",
       " 'visé',\n",
       " 'vorst-oost/forest-est',\n",
       " 'vorst-zuid/forest-midi',\n",
       " 'watermaal/watermael',\n",
       " 'wilwerwiltz',\n",
       " 'y.renory',\n",
       " 'yves-gomezée',\n",
       " 'zwankendamme',\n",
       " 'écaussinnes'}"
      ]
     },
     "execution_count": 89,
     "metadata": {},
     "output_type": "execute_result"
    }
   ],
   "source": [
    "facility_names"
   ]
  },
  {
   "cell_type": "markdown",
   "metadata": {},
   "source": [
    "The facilities dateset also includes international stations, more small stations and different names for the stations with bilingual names or more complicated names. We will have to impute these manually. I will do some, but you will have to create a dictionary of all linked names in order to impute those names."
   ]
  },
  {
   "cell_type": "code",
   "execution_count": 90,
   "metadata": {},
   "outputs": [],
   "source": [
    "Dict = dict({'antwerpen-caal': 'antwerpen-centraal', 'arcades': 'arcaden/arcades', 'beignee':'beignée', 'berchem-st-ag.-berchem':'sint-agatha-berchem/berchem-sainte-agathe'}) "
   ]
  },
  {
   "cell_type": "code",
   "execution_count": 92,
   "metadata": {},
   "outputs": [],
   "source": [
    "travelers = travelers.replace({\"Station\": Dict})"
   ]
  },
  {
   "cell_type": "code",
   "execution_count": 93,
   "metadata": {},
   "outputs": [
    {
     "data": {
      "text/plain": [
       "477"
      ]
     },
     "execution_count": 93,
     "metadata": {},
     "output_type": "execute_result"
    }
   ],
   "source": [
    "#Check overlap\n",
    "len(list(set(facilities['name']).intersection(set(travelers['Station']))))"
   ]
  },
  {
   "cell_type": "markdown",
   "metadata": {},
   "source": [
    "Overlap has increased by four. These four are the four stations I have mapped out."
   ]
  },
  {
   "cell_type": "markdown",
   "metadata": {},
   "source": [
    "Let's assume we have imputed all station names. Now we can merge the two datasets and run an analysis to see whether tram and free parking availability correlate to the number of travelers on a weekday. Do note that the relationship can be bi-directional. People can be inclined to use stations with connection to trams, but public transport companies can also be more likely to link their network with popular train stations."
   ]
  },
  {
   "cell_type": "code",
   "execution_count": 94,
   "metadata": {},
   "outputs": [],
   "source": [
    "#First merge\n",
    "merge = pd.merge(facilities, travelers, left_on='name', right_on='Station')"
   ]
  },
  {
   "cell_type": "code",
   "execution_count": 95,
   "metadata": {},
   "outputs": [
    {
     "data": {
      "text/plain": [
       "(477, 45)"
      ]
     },
     "execution_count": 95,
     "metadata": {},
     "output_type": "execute_result"
    }
   ],
   "source": [
    "#Check if all were matched\n",
    "merge.shape"
   ]
  },
  {
   "cell_type": "markdown",
   "metadata": {},
   "source": [
    "To perform a multivariate regression, we will use the statsmodels package. Note that sklearn (which you will use later on in the course) also has an implementation of the model. However, sklearn focuses more on predictive performance (how good you can predict something) instead of statistical inference. Since we are interested whether relationships are significant, we will use statsmodels in this case."
   ]
  },
  {
   "cell_type": "code",
   "execution_count": 97,
   "metadata": {},
   "outputs": [
    {
     "name": "stderr",
     "output_type": "stream",
     "text": [
      "C:\\Users\\bram_\\Anaconda3\\lib\\site-packages\\numpy\\core\\fromnumeric.py:2389: FutureWarning: Method .ptp is deprecated and will be removed in a future version. Use numpy.ptp instead.\n",
      "  return ptp(axis=axis, out=out, **kwargs)\n"
     ]
    }
   ],
   "source": [
    "import statsmodels.api as sm\n",
    "\n",
    "#Run multivariate regression\n",
    "X = merge[['tram', 'free_parking']]\n",
    "Y = merge['week']\n",
    "X = sm.add_constant(X) # adding a constant: Y = beta0 + beta1*X1 + beta2*X2 + espilon instead of Y = beta1*X1 + beta2*X2 + epsilon\n",
    " \n",
    "model = sm.OLS(Y, X).fit()\n",
    "print_model = model.summary()"
   ]
  },
  {
   "cell_type": "code",
   "execution_count": 98,
   "metadata": {},
   "outputs": [
    {
     "data": {
      "text/html": [
       "<table class=\"simpletable\">\n",
       "<caption>OLS Regression Results</caption>\n",
       "<tr>\n",
       "  <th>Dep. Variable:</th>          <td>week</td>       <th>  R-squared:         </th> <td>   0.105</td>\n",
       "</tr>\n",
       "<tr>\n",
       "  <th>Model:</th>                   <td>OLS</td>       <th>  Adj. R-squared:    </th> <td>   0.101</td>\n",
       "</tr>\n",
       "<tr>\n",
       "  <th>Method:</th>             <td>Least Squares</td>  <th>  F-statistic:       </th> <td>   27.84</td>\n",
       "</tr>\n",
       "<tr>\n",
       "  <th>Date:</th>             <td>Mon, 28 Sep 2020</td> <th>  Prob (F-statistic):</th> <td>3.69e-12</td>\n",
       "</tr>\n",
       "<tr>\n",
       "  <th>Time:</th>                 <td>14:45:13</td>     <th>  Log-Likelihood:    </th> <td> -4634.8</td>\n",
       "</tr>\n",
       "<tr>\n",
       "  <th>No. Observations:</th>      <td>   477</td>      <th>  AIC:               </th> <td>   9276.</td>\n",
       "</tr>\n",
       "<tr>\n",
       "  <th>Df Residuals:</th>          <td>   474</td>      <th>  BIC:               </th> <td>   9288.</td>\n",
       "</tr>\n",
       "<tr>\n",
       "  <th>Df Model:</th>              <td>     2</td>      <th>                     </th>     <td> </td>   \n",
       "</tr>\n",
       "<tr>\n",
       "  <th>Covariance Type:</th>      <td>nonrobust</td>    <th>                     </th>     <td> </td>   \n",
       "</tr>\n",
       "</table>\n",
       "<table class=\"simpletable\">\n",
       "<tr>\n",
       "        <td></td>          <th>coef</th>     <th>std err</th>      <th>t</th>      <th>P>|t|</th>  <th>[0.025</th>    <th>0.975]</th>  \n",
       "</tr>\n",
       "<tr>\n",
       "  <th>const</th>        <td>   78.7974</td> <td>  355.249</td> <td>    0.222</td> <td> 0.825</td> <td> -619.260</td> <td>  776.855</td>\n",
       "</tr>\n",
       "<tr>\n",
       "  <th>tram</th>         <td> 6318.9346</td> <td>  920.498</td> <td>    6.865</td> <td> 0.000</td> <td> 4510.174</td> <td> 8127.695</td>\n",
       "</tr>\n",
       "<tr>\n",
       "  <th>free_parking</th> <td> 1308.9507</td> <td>  413.354</td> <td>    3.167</td> <td> 0.002</td> <td>  496.718</td> <td> 2121.183</td>\n",
       "</tr>\n",
       "</table>\n",
       "<table class=\"simpletable\">\n",
       "<tr>\n",
       "  <th>Omnibus:</th>       <td>643.198</td> <th>  Durbin-Watson:     </th> <td>   1.928</td> \n",
       "</tr>\n",
       "<tr>\n",
       "  <th>Prob(Omnibus):</th> <td> 0.000</td>  <th>  Jarque-Bera (JB):  </th> <td>81840.801</td>\n",
       "</tr>\n",
       "<tr>\n",
       "  <th>Skew:</th>          <td> 6.857</td>  <th>  Prob(JB):          </th> <td>    0.00</td> \n",
       "</tr>\n",
       "<tr>\n",
       "  <th>Kurtosis:</th>      <td>65.687</td>  <th>  Cond. No.          </th> <td>    6.33</td> \n",
       "</tr>\n",
       "</table><br/><br/>Warnings:<br/>[1] Standard Errors assume that the covariance matrix of the errors is correctly specified."
      ],
      "text/plain": [
       "<class 'statsmodels.iolib.summary.Summary'>\n",
       "\"\"\"\n",
       "                            OLS Regression Results                            \n",
       "==============================================================================\n",
       "Dep. Variable:                   week   R-squared:                       0.105\n",
       "Model:                            OLS   Adj. R-squared:                  0.101\n",
       "Method:                 Least Squares   F-statistic:                     27.84\n",
       "Date:                Mon, 28 Sep 2020   Prob (F-statistic):           3.69e-12\n",
       "Time:                        14:45:13   Log-Likelihood:                -4634.8\n",
       "No. Observations:                 477   AIC:                             9276.\n",
       "Df Residuals:                     474   BIC:                             9288.\n",
       "Df Model:                           2                                         \n",
       "Covariance Type:            nonrobust                                         \n",
       "================================================================================\n",
       "                   coef    std err          t      P>|t|      [0.025      0.975]\n",
       "--------------------------------------------------------------------------------\n",
       "const           78.7974    355.249      0.222      0.825    -619.260     776.855\n",
       "tram          6318.9346    920.498      6.865      0.000    4510.174    8127.695\n",
       "free_parking  1308.9507    413.354      3.167      0.002     496.718    2121.183\n",
       "==============================================================================\n",
       "Omnibus:                      643.198   Durbin-Watson:                   1.928\n",
       "Prob(Omnibus):                  0.000   Jarque-Bera (JB):            81840.801\n",
       "Skew:                           6.857   Prob(JB):                         0.00\n",
       "Kurtosis:                      65.687   Cond. No.                         6.33\n",
       "==============================================================================\n",
       "\n",
       "Warnings:\n",
       "[1] Standard Errors assume that the covariance matrix of the errors is correctly specified.\n",
       "\"\"\""
      ]
     },
     "execution_count": 98,
     "metadata": {},
     "output_type": "execute_result"
    }
   ],
   "source": [
    "print_model"
   ]
  },
  {
   "cell_type": "markdown",
   "metadata": {},
   "source": [
    "The model indicates both tram and free_parking as having a significant positive relationship with the number of weekly travelers, with tram access being of greater influence. The (adjusted) R² of slightly above 0.10 indicates a model which learns some useful relationships, but misses a lot of relevant control variables. We did however not check the assumptions made by the multivariate linear regression model (e.g., multicollinearity), which could possibly violate the validity of our results. You should do these checks for your group assignment, as well as those for other tests/models."
   ]
  },
  {
   "cell_type": "markdown",
   "metadata": {},
   "source": [
    "Based on this week's course material, you should be able to solve following subquestions:\n",
    "<br>\n",
    "<br>\n",
    "Q12: Which cities are the worst with regard to access to train facilities? You can do this by calculating the travel distance, travel time, ... Would you recommend based on this, and the visualization in Q5, to create some new routes?\n",
    "<br>\n",
    "<br>\n",
    "Q14: Determine unique facilities that are very rare in orders of prevalence. Infer what may cause these facilities to be in place on their current locations. Are there possible other stations that could benefit from these facilities?\n",
    "<br>\n",
    "<br>\n",
    "Q16: Is delay determined  by  possible delay  in the  previous  station?  (Hint: this is a form ofautocorrelation).\n",
    "<br>\n",
    "<br>\n",
    "Q17: Regress the number of facilities to both the number of daily trains and number of dailytravelers. Do this using two univariate regressions and determine which covariate is theprimary driver for number of facilities, based on the adequate goodness-of-fit measure.\n",
    "<br>\n",
    "<br>\n",
    "Of course, you can already start on other analyses outside the starting questions. Or on the pre-processing of your data in order to solve the other questions.\n",
    "\n",
    "\n",
    "\n"
   ]
  }
 ],
 "metadata": {
  "kernelspec": {
   "display_name": "Python 3",
   "language": "python",
   "name": "python3"
  },
  "language_info": {
   "codemirror_mode": {
    "name": "ipython",
    "version": 3
   },
   "file_extension": ".py",
   "mimetype": "text/x-python",
   "name": "python",
   "nbconvert_exporter": "python",
   "pygments_lexer": "ipython3",
   "version": "3.6.3"
  },
  "toc": {
   "base_numbering": 1,
   "nav_menu": {},
   "number_sections": true,
   "sideBar": true,
   "skip_h1_title": false,
   "title_cell": "Table of Contents",
   "title_sidebar": "Contents",
   "toc_cell": false,
   "toc_position": {},
   "toc_section_display": true,
   "toc_window_display": false
  }
 },
 "nbformat": 4,
 "nbformat_minor": 2
}
