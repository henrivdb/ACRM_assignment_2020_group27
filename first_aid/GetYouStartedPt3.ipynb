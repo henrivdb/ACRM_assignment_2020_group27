{
 "cells": [
  {
   "cell_type": "markdown",
   "metadata": {},
   "source": [
    "### Plotting"
   ]
  },
  {
   "cell_type": "code",
   "execution_count": 71,
   "metadata": {},
   "outputs": [],
   "source": [
    "#Get needed packages\n",
    "import numpy as np\n",
    "import pandas as pd\n",
    "import matplotlib.pyplot as plt"
   ]
  },
  {
   "cell_type": "code",
   "execution_count": 78,
   "metadata": {},
   "outputs": [
    {
     "data": {
      "text/html": [
       "<div>\n",
       "<style scoped>\n",
       "    .dataframe tbody tr th:only-of-type {\n",
       "        vertical-align: middle;\n",
       "    }\n",
       "\n",
       "    .dataframe tbody tr th {\n",
       "        vertical-align: top;\n",
       "    }\n",
       "\n",
       "    .dataframe thead th {\n",
       "        text-align: right;\n",
       "    }\n",
       "</style>\n",
       "<table border=\"1\" class=\"dataframe\">\n",
       "  <thead>\n",
       "    <tr style=\"text-align: right;\">\n",
       "      <th></th>\n",
       "      <th>URI</th>\n",
       "      <th>name</th>\n",
       "      <th>street</th>\n",
       "      <th>zip</th>\n",
       "      <th>city</th>\n",
       "      <th>ticket_vending_machine</th>\n",
       "      <th>luggage_lockers</th>\n",
       "      <th>free_parking</th>\n",
       "      <th>taxi</th>\n",
       "      <th>bicycle_spots</th>\n",
       "      <th>...</th>\n",
       "      <th>sales_open_wednesday</th>\n",
       "      <th>sales_close_wednesday</th>\n",
       "      <th>sales_open_thursday</th>\n",
       "      <th>sales_close_thursday</th>\n",
       "      <th>sales_open_friday</th>\n",
       "      <th>sales_close_friday</th>\n",
       "      <th>sales_open_saturday</th>\n",
       "      <th>sales_close_saturday</th>\n",
       "      <th>sales_open_sunday</th>\n",
       "      <th>sales_close_sunday</th>\n",
       "    </tr>\n",
       "  </thead>\n",
       "  <tbody>\n",
       "    <tr>\n",
       "      <th>0</th>\n",
       "      <td>http://irail.be/stations/NMBS/008734201</td>\n",
       "      <td>Arras</td>\n",
       "      <td>NaN</td>\n",
       "      <td>NaN</td>\n",
       "      <td>NaN</td>\n",
       "      <td>NaN</td>\n",
       "      <td>NaN</td>\n",
       "      <td>NaN</td>\n",
       "      <td>NaN</td>\n",
       "      <td>NaN</td>\n",
       "      <td>...</td>\n",
       "      <td>NaN</td>\n",
       "      <td>NaN</td>\n",
       "      <td>NaN</td>\n",
       "      <td>NaN</td>\n",
       "      <td>NaN</td>\n",
       "      <td>NaN</td>\n",
       "      <td>NaN</td>\n",
       "      <td>NaN</td>\n",
       "      <td>NaN</td>\n",
       "      <td>NaN</td>\n",
       "    </tr>\n",
       "    <tr>\n",
       "      <th>1</th>\n",
       "      <td>http://irail.be/stations/NMBS/008015345</td>\n",
       "      <td>Aachen Hbf</td>\n",
       "      <td>NaN</td>\n",
       "      <td>NaN</td>\n",
       "      <td>NaN</td>\n",
       "      <td>NaN</td>\n",
       "      <td>NaN</td>\n",
       "      <td>NaN</td>\n",
       "      <td>NaN</td>\n",
       "      <td>NaN</td>\n",
       "      <td>...</td>\n",
       "      <td>NaN</td>\n",
       "      <td>NaN</td>\n",
       "      <td>NaN</td>\n",
       "      <td>NaN</td>\n",
       "      <td>NaN</td>\n",
       "      <td>NaN</td>\n",
       "      <td>NaN</td>\n",
       "      <td>NaN</td>\n",
       "      <td>NaN</td>\n",
       "      <td>NaN</td>\n",
       "    </tr>\n",
       "    <tr>\n",
       "      <th>2</th>\n",
       "      <td>http://irail.be/stations/NMBS/008895000</td>\n",
       "      <td>Aalst</td>\n",
       "      <td>Stationsplein 9</td>\n",
       "      <td>9300</td>\n",
       "      <td>Aalst</td>\n",
       "      <td>1.0</td>\n",
       "      <td>0.0</td>\n",
       "      <td>1.0</td>\n",
       "      <td>1.0</td>\n",
       "      <td>1.0</td>\n",
       "      <td>...</td>\n",
       "      <td>05:45</td>\n",
       "      <td>20:00</td>\n",
       "      <td>05:45</td>\n",
       "      <td>20:00</td>\n",
       "      <td>05:45</td>\n",
       "      <td>20:00</td>\n",
       "      <td>06:00</td>\n",
       "      <td>20:00</td>\n",
       "      <td>06:00</td>\n",
       "      <td>20:00</td>\n",
       "    </tr>\n",
       "    <tr>\n",
       "      <th>3</th>\n",
       "      <td>http://irail.be/stations/NMBS/008895125</td>\n",
       "      <td>Aalst-Kerrebroek</td>\n",
       "      <td>Ledebaan</td>\n",
       "      <td>9300</td>\n",
       "      <td>Aalst</td>\n",
       "      <td>0.0</td>\n",
       "      <td>0.0</td>\n",
       "      <td>1.0</td>\n",
       "      <td>0.0</td>\n",
       "      <td>0.0</td>\n",
       "      <td>...</td>\n",
       "      <td>NaN</td>\n",
       "      <td>NaN</td>\n",
       "      <td>NaN</td>\n",
       "      <td>NaN</td>\n",
       "      <td>NaN</td>\n",
       "      <td>NaN</td>\n",
       "      <td>NaN</td>\n",
       "      <td>NaN</td>\n",
       "      <td>NaN</td>\n",
       "      <td>NaN</td>\n",
       "    </tr>\n",
       "    <tr>\n",
       "      <th>4</th>\n",
       "      <td>http://irail.be/stations/NMBS/008891140</td>\n",
       "      <td>Aalter</td>\n",
       "      <td>Stationsplein 2</td>\n",
       "      <td>9880</td>\n",
       "      <td>Aalter</td>\n",
       "      <td>1.0</td>\n",
       "      <td>0.0</td>\n",
       "      <td>1.0</td>\n",
       "      <td>0.0</td>\n",
       "      <td>1.0</td>\n",
       "      <td>...</td>\n",
       "      <td>07:00</td>\n",
       "      <td>14:15</td>\n",
       "      <td>07:00</td>\n",
       "      <td>14:15</td>\n",
       "      <td>07:00</td>\n",
       "      <td>14:15</td>\n",
       "      <td>07:45</td>\n",
       "      <td>15:00</td>\n",
       "      <td>07:45</td>\n",
       "      <td>15:00</td>\n",
       "    </tr>\n",
       "  </tbody>\n",
       "</table>\n",
       "<p>5 rows × 36 columns</p>\n",
       "</div>"
      ],
      "text/plain": [
       "                                       URI              name           street  \\\n",
       "0  http://irail.be/stations/NMBS/008734201             Arras              NaN   \n",
       "1  http://irail.be/stations/NMBS/008015345        Aachen Hbf              NaN   \n",
       "2  http://irail.be/stations/NMBS/008895000             Aalst  Stationsplein 9   \n",
       "3  http://irail.be/stations/NMBS/008895125  Aalst-Kerrebroek         Ledebaan   \n",
       "4  http://irail.be/stations/NMBS/008891140            Aalter  Stationsplein 2   \n",
       "\n",
       "    zip    city  ticket_vending_machine  luggage_lockers  free_parking  taxi  \\\n",
       "0   NaN     NaN                     NaN              NaN           NaN   NaN   \n",
       "1   NaN     NaN                     NaN              NaN           NaN   NaN   \n",
       "2  9300   Aalst                     1.0              0.0           1.0   1.0   \n",
       "3  9300   Aalst                     0.0              0.0           1.0   0.0   \n",
       "4  9880  Aalter                     1.0              0.0           1.0   0.0   \n",
       "\n",
       "   bicycle_spots  ...  sales_open_wednesday  sales_close_wednesday  \\\n",
       "0            NaN  ...                   NaN                    NaN   \n",
       "1            NaN  ...                   NaN                    NaN   \n",
       "2            1.0  ...                 05:45                  20:00   \n",
       "3            0.0  ...                   NaN                    NaN   \n",
       "4            1.0  ...                 07:00                  14:15   \n",
       "\n",
       "   sales_open_thursday  sales_close_thursday  sales_open_friday  \\\n",
       "0                  NaN                   NaN                NaN   \n",
       "1                  NaN                   NaN                NaN   \n",
       "2                05:45                 20:00              05:45   \n",
       "3                  NaN                   NaN                NaN   \n",
       "4                07:00                 14:15              07:00   \n",
       "\n",
       "   sales_close_friday  sales_open_saturday  sales_close_saturday  \\\n",
       "0                 NaN                  NaN                   NaN   \n",
       "1                 NaN                  NaN                   NaN   \n",
       "2               20:00                06:00                 20:00   \n",
       "3                 NaN                  NaN                   NaN   \n",
       "4               14:15                07:45                 15:00   \n",
       "\n",
       "   sales_open_sunday  sales_close_sunday  \n",
       "0                NaN                 NaN  \n",
       "1                NaN                 NaN  \n",
       "2              06:00               20:00  \n",
       "3                NaN                 NaN  \n",
       "4              07:45               15:00  \n",
       "\n",
       "[5 rows x 36 columns]"
      ]
     },
     "execution_count": 78,
     "metadata": {},
     "output_type": "execute_result"
    }
   ],
   "source": [
    "facilities = pd.read_csv(\"./facilities.csv\")\n",
    "\n",
    "facilities.head(5)"
   ]
  },
  {
   "cell_type": "markdown",
   "metadata": {},
   "source": [
    "Let's assume you want to visualize how the number of facilities is distributed across the various stations."
   ]
  },
  {
   "cell_type": "code",
   "execution_count": 79,
   "metadata": {},
   "outputs": [],
   "source": [
    "#Create list of facility columns\n",
    "facil_col = ['ticket_vending_machine',\n",
    "       'luggage_lockers', 'free_parking', 'taxi', 'bicycle_spots', 'blue-bike',\n",
    "       'bus', 'tram', 'metro', 'wheelchair_available', 'ramp',\n",
    "       'disabled_parking_spots', 'elevated_platform', 'escalator_up',\n",
    "       'escalator_down', 'elevator_platform', 'audio_induction_loop']"
   ]
  },
  {
   "cell_type": "code",
   "execution_count": 80,
   "metadata": {},
   "outputs": [
    {
     "name": "stdout",
     "output_type": "stream",
     "text": [
      "URI 0.0\n",
      "name 0.0\n",
      "street 0.17210682492581603\n",
      "zip 0.17359050445103857\n",
      "city 0.17359050445103857\n",
      "ticket_vending_machine 0.0\n",
      "luggage_lockers 0.0\n",
      "free_parking 0.0\n",
      "taxi 0.0\n",
      "bicycle_spots 0.0\n",
      "blue-bike 0.0\n",
      "bus 0.0\n",
      "tram 0.0\n",
      "metro 0.0\n",
      "wheelchair_available 0.0\n",
      "ramp 0.0\n",
      "disabled_parking_spots 0.0\n",
      "elevated_platform 0.0\n",
      "escalator_up 0.0\n",
      "escalator_down 0.0\n",
      "elevator_platform 0.0\n",
      "audio_induction_loop 0.0\n",
      "sales_open_monday 0.7997032640949555\n",
      "sales_close_monday 0.7997032640949555\n",
      "sales_open_tuesday 0.7997032640949555\n",
      "sales_close_tuesday 0.7997032640949555\n",
      "sales_open_wednesday 0.7997032640949555\n",
      "sales_close_wednesday 0.7997032640949555\n",
      "sales_open_thursday 0.7997032640949555\n",
      "sales_close_thursday 0.7997032640949555\n",
      "sales_open_friday 0.7997032640949555\n",
      "sales_close_friday 0.7997032640949555\n",
      "sales_open_saturday 0.8738872403560831\n",
      "sales_close_saturday 0.8738872403560831\n",
      "sales_open_sunday 0.8961424332344213\n",
      "sales_close_sunday 0.8961424332344213\n"
     ]
    }
   ],
   "source": [
    "#For the sake of this exercise, we will simply impute missing with zero\n",
    "for col in facil_col:\n",
    "    facilities[col].fillna((0), inplace=True)\n",
    "\n",
    "#Check if it worked    \n",
    "for col in facilities.columns:\n",
    "    missings = len(facilities[col][facilities[col].isnull()]) / float(len(facilities))\n",
    "    print(col, missings)"
   ]
  },
  {
   "cell_type": "code",
   "execution_count": 81,
   "metadata": {},
   "outputs": [],
   "source": [
    "#Problem: disabled_parking_spots is count variable instead of dummy indicator\n",
    "facilities['disabled_parking_spots_indicator'] = np.where(facilities['disabled_parking_spots']==0,0,1)"
   ]
  },
  {
   "cell_type": "code",
   "execution_count": 82,
   "metadata": {},
   "outputs": [],
   "source": [
    "facil_col.remove('disabled_parking_spots')\n",
    "facil_col = facil_col + ['disabled_parking_spots_indicator']"
   ]
  },
  {
   "cell_type": "code",
   "execution_count": 83,
   "metadata": {},
   "outputs": [
    {
     "data": {
      "text/plain": [
       "['ticket_vending_machine',\n",
       " 'luggage_lockers',\n",
       " 'free_parking',\n",
       " 'taxi',\n",
       " 'bicycle_spots',\n",
       " 'blue-bike',\n",
       " 'bus',\n",
       " 'tram',\n",
       " 'metro',\n",
       " 'wheelchair_available',\n",
       " 'ramp',\n",
       " 'elevated_platform',\n",
       " 'escalator_up',\n",
       " 'escalator_down',\n",
       " 'elevator_platform',\n",
       " 'audio_induction_loop',\n",
       " 'disabled_parking_spots_indicator']"
      ]
     },
     "execution_count": 83,
     "metadata": {},
     "output_type": "execute_result"
    }
   ],
   "source": [
    "facil_col"
   ]
  },
  {
   "cell_type": "code",
   "execution_count": 87,
   "metadata": {},
   "outputs": [
    {
     "data": {
      "text/html": [
       "<div>\n",
       "<style scoped>\n",
       "    .dataframe tbody tr th:only-of-type {\n",
       "        vertical-align: middle;\n",
       "    }\n",
       "\n",
       "    .dataframe tbody tr th {\n",
       "        vertical-align: top;\n",
       "    }\n",
       "\n",
       "    .dataframe thead th {\n",
       "        text-align: right;\n",
       "    }\n",
       "</style>\n",
       "<table border=\"1\" class=\"dataframe\">\n",
       "  <thead>\n",
       "    <tr style=\"text-align: right;\">\n",
       "      <th></th>\n",
       "      <th>ticket_vending_machine</th>\n",
       "      <th>luggage_lockers</th>\n",
       "      <th>free_parking</th>\n",
       "      <th>taxi</th>\n",
       "      <th>bicycle_spots</th>\n",
       "      <th>blue-bike</th>\n",
       "      <th>bus</th>\n",
       "      <th>tram</th>\n",
       "      <th>metro</th>\n",
       "      <th>wheelchair_available</th>\n",
       "      <th>ramp</th>\n",
       "      <th>elevated_platform</th>\n",
       "      <th>escalator_up</th>\n",
       "      <th>escalator_down</th>\n",
       "      <th>elevator_platform</th>\n",
       "      <th>audio_induction_loop</th>\n",
       "      <th>disabled_parking_spots_indicator</th>\n",
       "    </tr>\n",
       "  </thead>\n",
       "  <tbody>\n",
       "    <tr>\n",
       "      <th>0</th>\n",
       "      <td>0.0</td>\n",
       "      <td>0.0</td>\n",
       "      <td>0.0</td>\n",
       "      <td>0.0</td>\n",
       "      <td>0.0</td>\n",
       "      <td>0.0</td>\n",
       "      <td>0.0</td>\n",
       "      <td>0.0</td>\n",
       "      <td>0.0</td>\n",
       "      <td>0.0</td>\n",
       "      <td>0.0</td>\n",
       "      <td>0.0</td>\n",
       "      <td>0.0</td>\n",
       "      <td>0.0</td>\n",
       "      <td>0.0</td>\n",
       "      <td>0.0</td>\n",
       "      <td>0</td>\n",
       "    </tr>\n",
       "    <tr>\n",
       "      <th>1</th>\n",
       "      <td>0.0</td>\n",
       "      <td>0.0</td>\n",
       "      <td>0.0</td>\n",
       "      <td>0.0</td>\n",
       "      <td>0.0</td>\n",
       "      <td>0.0</td>\n",
       "      <td>0.0</td>\n",
       "      <td>0.0</td>\n",
       "      <td>0.0</td>\n",
       "      <td>0.0</td>\n",
       "      <td>0.0</td>\n",
       "      <td>0.0</td>\n",
       "      <td>0.0</td>\n",
       "      <td>0.0</td>\n",
       "      <td>0.0</td>\n",
       "      <td>0.0</td>\n",
       "      <td>0</td>\n",
       "    </tr>\n",
       "    <tr>\n",
       "      <th>2</th>\n",
       "      <td>1.0</td>\n",
       "      <td>0.0</td>\n",
       "      <td>1.0</td>\n",
       "      <td>1.0</td>\n",
       "      <td>1.0</td>\n",
       "      <td>1.0</td>\n",
       "      <td>1.0</td>\n",
       "      <td>0.0</td>\n",
       "      <td>0.0</td>\n",
       "      <td>1.0</td>\n",
       "      <td>1.0</td>\n",
       "      <td>1.0</td>\n",
       "      <td>0.0</td>\n",
       "      <td>0.0</td>\n",
       "      <td>1.0</td>\n",
       "      <td>1.0</td>\n",
       "      <td>1</td>\n",
       "    </tr>\n",
       "    <tr>\n",
       "      <th>3</th>\n",
       "      <td>0.0</td>\n",
       "      <td>0.0</td>\n",
       "      <td>1.0</td>\n",
       "      <td>0.0</td>\n",
       "      <td>0.0</td>\n",
       "      <td>0.0</td>\n",
       "      <td>0.0</td>\n",
       "      <td>0.0</td>\n",
       "      <td>0.0</td>\n",
       "      <td>0.0</td>\n",
       "      <td>0.0</td>\n",
       "      <td>0.0</td>\n",
       "      <td>0.0</td>\n",
       "      <td>0.0</td>\n",
       "      <td>0.0</td>\n",
       "      <td>0.0</td>\n",
       "      <td>0</td>\n",
       "    </tr>\n",
       "    <tr>\n",
       "      <th>4</th>\n",
       "      <td>1.0</td>\n",
       "      <td>0.0</td>\n",
       "      <td>1.0</td>\n",
       "      <td>0.0</td>\n",
       "      <td>1.0</td>\n",
       "      <td>1.0</td>\n",
       "      <td>1.0</td>\n",
       "      <td>0.0</td>\n",
       "      <td>0.0</td>\n",
       "      <td>0.0</td>\n",
       "      <td>0.0</td>\n",
       "      <td>0.0</td>\n",
       "      <td>0.0</td>\n",
       "      <td>0.0</td>\n",
       "      <td>0.0</td>\n",
       "      <td>1.0</td>\n",
       "      <td>1</td>\n",
       "    </tr>\n",
       "    <tr>\n",
       "      <th>...</th>\n",
       "      <td>...</td>\n",
       "      <td>...</td>\n",
       "      <td>...</td>\n",
       "      <td>...</td>\n",
       "      <td>...</td>\n",
       "      <td>...</td>\n",
       "      <td>...</td>\n",
       "      <td>...</td>\n",
       "      <td>...</td>\n",
       "      <td>...</td>\n",
       "      <td>...</td>\n",
       "      <td>...</td>\n",
       "      <td>...</td>\n",
       "      <td>...</td>\n",
       "      <td>...</td>\n",
       "      <td>...</td>\n",
       "      <td>...</td>\n",
       "    </tr>\n",
       "    <tr>\n",
       "      <th>669</th>\n",
       "      <td>1.0</td>\n",
       "      <td>0.0</td>\n",
       "      <td>1.0</td>\n",
       "      <td>0.0</td>\n",
       "      <td>0.0</td>\n",
       "      <td>0.0</td>\n",
       "      <td>0.0</td>\n",
       "      <td>0.0</td>\n",
       "      <td>0.0</td>\n",
       "      <td>0.0</td>\n",
       "      <td>0.0</td>\n",
       "      <td>0.0</td>\n",
       "      <td>0.0</td>\n",
       "      <td>0.0</td>\n",
       "      <td>0.0</td>\n",
       "      <td>0.0</td>\n",
       "      <td>1</td>\n",
       "    </tr>\n",
       "    <tr>\n",
       "      <th>670</th>\n",
       "      <td>1.0</td>\n",
       "      <td>0.0</td>\n",
       "      <td>1.0</td>\n",
       "      <td>0.0</td>\n",
       "      <td>1.0</td>\n",
       "      <td>0.0</td>\n",
       "      <td>1.0</td>\n",
       "      <td>0.0</td>\n",
       "      <td>0.0</td>\n",
       "      <td>1.0</td>\n",
       "      <td>1.0</td>\n",
       "      <td>0.0</td>\n",
       "      <td>0.0</td>\n",
       "      <td>0.0</td>\n",
       "      <td>0.0</td>\n",
       "      <td>1.0</td>\n",
       "      <td>1</td>\n",
       "    </tr>\n",
       "    <tr>\n",
       "      <th>671</th>\n",
       "      <td>0.0</td>\n",
       "      <td>0.0</td>\n",
       "      <td>0.0</td>\n",
       "      <td>0.0</td>\n",
       "      <td>0.0</td>\n",
       "      <td>0.0</td>\n",
       "      <td>0.0</td>\n",
       "      <td>0.0</td>\n",
       "      <td>0.0</td>\n",
       "      <td>0.0</td>\n",
       "      <td>0.0</td>\n",
       "      <td>0.0</td>\n",
       "      <td>0.0</td>\n",
       "      <td>0.0</td>\n",
       "      <td>0.0</td>\n",
       "      <td>0.0</td>\n",
       "      <td>0</td>\n",
       "    </tr>\n",
       "    <tr>\n",
       "      <th>672</th>\n",
       "      <td>1.0</td>\n",
       "      <td>0.0</td>\n",
       "      <td>1.0</td>\n",
       "      <td>0.0</td>\n",
       "      <td>1.0</td>\n",
       "      <td>0.0</td>\n",
       "      <td>0.0</td>\n",
       "      <td>0.0</td>\n",
       "      <td>0.0</td>\n",
       "      <td>0.0</td>\n",
       "      <td>0.0</td>\n",
       "      <td>0.0</td>\n",
       "      <td>0.0</td>\n",
       "      <td>0.0</td>\n",
       "      <td>0.0</td>\n",
       "      <td>0.0</td>\n",
       "      <td>0</td>\n",
       "    </tr>\n",
       "    <tr>\n",
       "      <th>673</th>\n",
       "      <td>1.0</td>\n",
       "      <td>0.0</td>\n",
       "      <td>1.0</td>\n",
       "      <td>0.0</td>\n",
       "      <td>1.0</td>\n",
       "      <td>0.0</td>\n",
       "      <td>1.0</td>\n",
       "      <td>0.0</td>\n",
       "      <td>0.0</td>\n",
       "      <td>0.0</td>\n",
       "      <td>0.0</td>\n",
       "      <td>0.0</td>\n",
       "      <td>0.0</td>\n",
       "      <td>0.0</td>\n",
       "      <td>0.0</td>\n",
       "      <td>0.0</td>\n",
       "      <td>0</td>\n",
       "    </tr>\n",
       "  </tbody>\n",
       "</table>\n",
       "<p>674 rows × 17 columns</p>\n",
       "</div>"
      ],
      "text/plain": [
       "     ticket_vending_machine  luggage_lockers  free_parking  taxi  \\\n",
       "0                       0.0              0.0           0.0   0.0   \n",
       "1                       0.0              0.0           0.0   0.0   \n",
       "2                       1.0              0.0           1.0   1.0   \n",
       "3                       0.0              0.0           1.0   0.0   \n",
       "4                       1.0              0.0           1.0   0.0   \n",
       "..                      ...              ...           ...   ...   \n",
       "669                     1.0              0.0           1.0   0.0   \n",
       "670                     1.0              0.0           1.0   0.0   \n",
       "671                     0.0              0.0           0.0   0.0   \n",
       "672                     1.0              0.0           1.0   0.0   \n",
       "673                     1.0              0.0           1.0   0.0   \n",
       "\n",
       "     bicycle_spots  blue-bike  bus  tram  metro  wheelchair_available  ramp  \\\n",
       "0              0.0        0.0  0.0   0.0    0.0                   0.0   0.0   \n",
       "1              0.0        0.0  0.0   0.0    0.0                   0.0   0.0   \n",
       "2              1.0        1.0  1.0   0.0    0.0                   1.0   1.0   \n",
       "3              0.0        0.0  0.0   0.0    0.0                   0.0   0.0   \n",
       "4              1.0        1.0  1.0   0.0    0.0                   0.0   0.0   \n",
       "..             ...        ...  ...   ...    ...                   ...   ...   \n",
       "669            0.0        0.0  0.0   0.0    0.0                   0.0   0.0   \n",
       "670            1.0        0.0  1.0   0.0    0.0                   1.0   1.0   \n",
       "671            0.0        0.0  0.0   0.0    0.0                   0.0   0.0   \n",
       "672            1.0        0.0  0.0   0.0    0.0                   0.0   0.0   \n",
       "673            1.0        0.0  1.0   0.0    0.0                   0.0   0.0   \n",
       "\n",
       "     elevated_platform  escalator_up  escalator_down  elevator_platform  \\\n",
       "0                  0.0           0.0             0.0                0.0   \n",
       "1                  0.0           0.0             0.0                0.0   \n",
       "2                  1.0           0.0             0.0                1.0   \n",
       "3                  0.0           0.0             0.0                0.0   \n",
       "4                  0.0           0.0             0.0                0.0   \n",
       "..                 ...           ...             ...                ...   \n",
       "669                0.0           0.0             0.0                0.0   \n",
       "670                0.0           0.0             0.0                0.0   \n",
       "671                0.0           0.0             0.0                0.0   \n",
       "672                0.0           0.0             0.0                0.0   \n",
       "673                0.0           0.0             0.0                0.0   \n",
       "\n",
       "     audio_induction_loop  disabled_parking_spots_indicator  \n",
       "0                     0.0                                 0  \n",
       "1                     0.0                                 0  \n",
       "2                     1.0                                 1  \n",
       "3                     0.0                                 0  \n",
       "4                     1.0                                 1  \n",
       "..                    ...                               ...  \n",
       "669                   0.0                                 1  \n",
       "670                   1.0                                 1  \n",
       "671                   0.0                                 0  \n",
       "672                   0.0                                 0  \n",
       "673                   0.0                                 0  \n",
       "\n",
       "[674 rows x 17 columns]"
      ]
     },
     "execution_count": 87,
     "metadata": {},
     "output_type": "execute_result"
    }
   ],
   "source": [
    "facilities[facil_col]"
   ]
  },
  {
   "cell_type": "code",
   "execution_count": 88,
   "metadata": {},
   "outputs": [],
   "source": [
    "#Compute total number of facilities\n",
    "\n",
    "facilities['number_facilities'] = facilities[facil_col].sum(axis = 1)"
   ]
  },
  {
   "cell_type": "code",
   "execution_count": 89,
   "metadata": {},
   "outputs": [
    {
     "data": {
      "text/plain": [
       "0       0.0\n",
       "1       0.0\n",
       "2      12.0\n",
       "3       1.0\n",
       "4       7.0\n",
       "       ... \n",
       "669     3.0\n",
       "670     8.0\n",
       "671     0.0\n",
       "672     3.0\n",
       "673     4.0\n",
       "Name: number_facilities, Length: 674, dtype: float64"
      ]
     },
     "execution_count": 89,
     "metadata": {},
     "output_type": "execute_result"
    }
   ],
   "source": [
    "facilities['number_facilities'] "
   ]
  },
  {
   "cell_type": "code",
   "execution_count": 134,
   "metadata": {},
   "outputs": [],
   "source": [
    "input_plot = pd.DataFrame(facilities['number_facilities'].value_counts())"
   ]
  },
  {
   "cell_type": "code",
   "execution_count": 135,
   "metadata": {},
   "outputs": [
    {
     "data": {
      "text/html": [
       "<div>\n",
       "<style scoped>\n",
       "    .dataframe tbody tr th:only-of-type {\n",
       "        vertical-align: middle;\n",
       "    }\n",
       "\n",
       "    .dataframe tbody tr th {\n",
       "        vertical-align: top;\n",
       "    }\n",
       "\n",
       "    .dataframe thead th {\n",
       "        text-align: right;\n",
       "    }\n",
       "</style>\n",
       "<table border=\"1\" class=\"dataframe\">\n",
       "  <thead>\n",
       "    <tr style=\"text-align: right;\">\n",
       "      <th></th>\n",
       "      <th>number_facilities</th>\n",
       "    </tr>\n",
       "  </thead>\n",
       "  <tbody>\n",
       "    <tr>\n",
       "      <th>0.0</th>\n",
       "      <td>141</td>\n",
       "    </tr>\n",
       "    <tr>\n",
       "      <th>2.0</th>\n",
       "      <td>112</td>\n",
       "    </tr>\n",
       "    <tr>\n",
       "      <th>3.0</th>\n",
       "      <td>94</td>\n",
       "    </tr>\n",
       "    <tr>\n",
       "      <th>1.0</th>\n",
       "      <td>84</td>\n",
       "    </tr>\n",
       "    <tr>\n",
       "      <th>4.0</th>\n",
       "      <td>50</td>\n",
       "    </tr>\n",
       "  </tbody>\n",
       "</table>\n",
       "</div>"
      ],
      "text/plain": [
       "     number_facilities\n",
       "0.0                141\n",
       "2.0                112\n",
       "3.0                 94\n",
       "1.0                 84\n",
       "4.0                 50"
      ]
     },
     "execution_count": 135,
     "metadata": {},
     "output_type": "execute_result"
    }
   ],
   "source": [
    "input_plot.head()"
   ]
  },
  {
   "cell_type": "code",
   "execution_count": 136,
   "metadata": {},
   "outputs": [],
   "source": [
    "input_plot['NumberFacilities'] = input_plot.index\n",
    "input_plot = input_plot.rename(index=str, columns={'number_facilities': 'Occurence'})"
   ]
  },
  {
   "cell_type": "code",
   "execution_count": 137,
   "metadata": {},
   "outputs": [
    {
     "data": {
      "image/png": "[encoded data removed]",
      "text/plain": [
       "<Figure size 432x288 with 1 Axes>"
      ]
     },
     "metadata": {
      "needs_background": "light"
     },
     "output_type": "display_data"
    }
   ],
   "source": [
    "#Time to get plotting\n",
    "fig, ax = plt.subplots()\n",
    "plt.bar(input_plot['NumberFacilities'], input_plot['Occurence'])\n",
    "plt.locator_params(axis='x', nbins=len(input_plot))\n",
    "plt.xlabel('Number of facilities offered at the station')\n",
    "plt.ylabel('Number stations offering this amount of facilities')\n",
    "\n",
    "plt.show()"
   ]
  },
  {
   "cell_type": "markdown",
   "metadata": {},
   "source": [
    "While this is a very simple plot, it already gives some useful information. It seems that a lot of stations offer between 0 and 3 facilties. Others offer an intermediate amount between 4 and 8. A limited amount of stations offers 9 and above facilities. This could be useful for grouping together stations. This could result in you using 2 categorical variables instead of 17 when you expect the relationship between a dependent and number of facilities to be non-linear."
   ]
  },
  {
   "cell_type": "markdown",
   "metadata": {},
   "source": [
    "### Geospatial data"
   ]
  },
  {
   "cell_type": "markdown",
   "metadata": {},
   "source": [
    "For the assignment, you will be needing to plot a lot of data on the map of Belgium. As this is a bit difficulter than your average barplot, we will give you an introduction on how to do this. Before this code works, you should run below command (with it being set back to non-comment of course)."
   ]
  },
  {
   "cell_type": "code",
   "execution_count": 5,
   "metadata": {},
   "outputs": [
    {
     "name": "stdout",
     "output_type": "stream",
     "text": [
      "Collecting descartes\n",
      "  Downloading https://files.pythonhosted.org/packages/e5/b6/1ed2eb03989ae574584664985367ba70cd9cf8b32ee8cad0e8aaeac819f3/descartes-1.1.0-py3-none-any.whl\n",
      "Requirement already satisfied: matplotlib in c:\\users\\bram_\\anaconda3\\lib\\site-packages (from descartes) (3.1.1)\n",
      "Requirement already satisfied: cycler>=0.10 in c:\\users\\bram_\\anaconda3\\lib\\site-packages (from matplotlib->descartes) (0.10.0)\n",
      "Requirement already satisfied: kiwisolver>=1.0.1 in c:\\users\\bram_\\anaconda3\\lib\\site-packages (from matplotlib->descartes) (1.1.0)\n",
      "Requirement already satisfied: pyparsing!=2.0.4,!=2.1.2,!=2.1.6,>=2.0.1 in c:\\users\\bram_\\anaconda3\\lib\\site-packages (from matplotlib->descartes) (2.4.2)\n",
      "Requirement already satisfied: python-dateutil>=2.1 in c:\\users\\bram_\\anaconda3\\lib\\site-packages (from matplotlib->descartes) (2.8.0)\n",
      "Requirement already satisfied: numpy>=1.11 in c:\\users\\bram_\\anaconda3\\lib\\site-packages (from matplotlib->descartes) (1.19.2+mkl)\n",
      "Requirement already satisfied: six in c:\\users\\bram_\\anaconda3\\lib\\site-packages (from cycler>=0.10->matplotlib->descartes) (1.15.0)\n",
      "Requirement already satisfied: setuptools in c:\\users\\bram_\\anaconda3\\lib\\site-packages (from kiwisolver>=1.0.1->matplotlib->descartes) (41.4.0)\n",
      "Installing collected packages: descartes\n",
      "Successfully installed descartes-1.1.0\n"
     ]
    }
   ],
   "source": [
    "#!pip install wheel\n",
    "#!pip install pipwin\n",
    "#!pip install descartes\n",
    "\n",
    "#!pipwin install numpy\n",
    "#!pipwin install pandas\n",
    "#!pipwin install shapely\n",
    "#!pipwin install gdal\n",
    "#!pipwin install fiona\n",
    "#!pipwin install pyproj\n",
    "#!pipwin install six\n",
    "#!pipwin install rtree\n",
    "#!pipwin install geopandas"
   ]
  },
  {
   "cell_type": "code",
   "execution_count": 2,
   "metadata": {},
   "outputs": [],
   "source": [
    "#Get needed packages\n",
    "import geopandas as gpd"
   ]
  },
  {
   "cell_type": "markdown",
   "metadata": {},
   "source": [
    "To do this methodology, you need data from .shp data format. I downloaded mine from https://hub.arcgis.com/datasets/esribeluxdata::belgium-municipalities"
   ]
  },
  {
   "cell_type": "code",
   "execution_count": 7,
   "metadata": {},
   "outputs": [
    {
     "data": {
      "text/html": [
       "<div>\n",
       "<style scoped>\n",
       "    .dataframe tbody tr th:only-of-type {\n",
       "        vertical-align: middle;\n",
       "    }\n",
       "\n",
       "    .dataframe tbody tr th {\n",
       "        vertical-align: top;\n",
       "    }\n",
       "\n",
       "    .dataframe thead th {\n",
       "        text-align: right;\n",
       "    }\n",
       "</style>\n",
       "<table border=\"1\" class=\"dataframe\">\n",
       "  <thead>\n",
       "    <tr style=\"text-align: right;\">\n",
       "      <th></th>\n",
       "      <th>OBJECTID</th>\n",
       "      <th>CodeINS</th>\n",
       "      <th>NAME_2</th>\n",
       "      <th>FIRST_NAME</th>\n",
       "      <th>FIRST_VARN</th>\n",
       "      <th>FIRST_ENGT</th>\n",
       "      <th>FR_Name</th>\n",
       "      <th>NE_Name</th>\n",
       "      <th>geometry</th>\n",
       "    </tr>\n",
       "  </thead>\n",
       "  <tbody>\n",
       "    <tr>\n",
       "      <th>0</th>\n",
       "      <td>1</td>\n",
       "      <td>10000</td>\n",
       "      <td>Antwerpen</td>\n",
       "      <td>Vlaanderen</td>\n",
       "      <td>Amberes|Antuérpia|Antwerp|Anvers|Anversa</td>\n",
       "      <td>Province</td>\n",
       "      <td>Anvers</td>\n",
       "      <td>Antwerpen</td>\n",
       "      <td>MULTIPOLYGON (((4.94209 51.45524, 4.94062 51.4...</td>\n",
       "    </tr>\n",
       "    <tr>\n",
       "      <th>1</th>\n",
       "      <td>2</td>\n",
       "      <td>4000</td>\n",
       "      <td>Bruxelles</td>\n",
       "      <td>Bruxelles</td>\n",
       "      <td>Brussel Hoofstadt|Brusselse Hoofdstedelijke Ge...</td>\n",
       "      <td>Capital Region</td>\n",
       "      <td>Bruxelles</td>\n",
       "      <td>Brussel</td>\n",
       "      <td>POLYGON ((4.40633 50.91309, 4.40722 50.91295, ...</td>\n",
       "    </tr>\n",
       "    <tr>\n",
       "      <th>2</th>\n",
       "      <td>3</td>\n",
       "      <td>20001</td>\n",
       "      <td>Vlaams Brabant</td>\n",
       "      <td>Vlaanderen</td>\n",
       "      <td>Brabant Flamand|Brabante Flamenco|Brabante Fla...</td>\n",
       "      <td>Province</td>\n",
       "      <td>Brabant Flamand</td>\n",
       "      <td>Vlaams Brabant</td>\n",
       "      <td>POLYGON ((3.98787 50.68749, 3.98772 50.68749, ...</td>\n",
       "    </tr>\n",
       "    <tr>\n",
       "      <th>3</th>\n",
       "      <td>4</td>\n",
       "      <td>20002</td>\n",
       "      <td>Brabant Wallon</td>\n",
       "      <td>Wallonie</td>\n",
       "      <td>Waals Brabant|Walloon Brabant|Brabante Val?o</td>\n",
       "      <td>Province</td>\n",
       "      <td>Brabant Wallon</td>\n",
       "      <td>Waals Brabant</td>\n",
       "      <td>POLYGON ((4.75386 50.80639, 4.75387 50.80639, ...</td>\n",
       "    </tr>\n",
       "    <tr>\n",
       "      <th>4</th>\n",
       "      <td>5</td>\n",
       "      <td>30000</td>\n",
       "      <td>West-Vlaanderen</td>\n",
       "      <td>Vlaanderen</td>\n",
       "      <td>Fiandra Occidentale|Flandes Occidental|Flandre...</td>\n",
       "      <td>Province</td>\n",
       "      <td>Flandre Occidentale</td>\n",
       "      <td>West-Vlaanderen</td>\n",
       "      <td>MULTIPOLYGON (((2.65679 51.12932, 2.65663 51.1...</td>\n",
       "    </tr>\n",
       "  </tbody>\n",
       "</table>\n",
       "</div>"
      ],
      "text/plain": [
       "   OBJECTID CodeINS           NAME_2  FIRST_NAME  \\\n",
       "0         1   10000        Antwerpen  Vlaanderen   \n",
       "1         2    4000        Bruxelles   Bruxelles   \n",
       "2         3   20001   Vlaams Brabant  Vlaanderen   \n",
       "3         4   20002   Brabant Wallon    Wallonie   \n",
       "4         5   30000  West-Vlaanderen  Vlaanderen   \n",
       "\n",
       "                                          FIRST_VARN      FIRST_ENGT  \\\n",
       "0           Amberes|Antuérpia|Antwerp|Anvers|Anversa        Province   \n",
       "1  Brussel Hoofstadt|Brusselse Hoofdstedelijke Ge...  Capital Region   \n",
       "2  Brabant Flamand|Brabante Flamenco|Brabante Fla...        Province   \n",
       "3       Waals Brabant|Walloon Brabant|Brabante Val?o        Province   \n",
       "4  Fiandra Occidentale|Flandes Occidental|Flandre...        Province   \n",
       "\n",
       "               FR_Name          NE_Name  \\\n",
       "0               Anvers        Antwerpen   \n",
       "1            Bruxelles          Brussel   \n",
       "2      Brabant Flamand   Vlaams Brabant   \n",
       "3       Brabant Wallon    Waals Brabant   \n",
       "4  Flandre Occidentale  West-Vlaanderen   \n",
       "\n",
       "                                            geometry  \n",
       "0  MULTIPOLYGON (((4.94209 51.45524, 4.94062 51.4...  \n",
       "1  POLYGON ((4.40633 50.91309, 4.40722 50.91295, ...  \n",
       "2  POLYGON ((3.98787 50.68749, 3.98772 50.68749, ...  \n",
       "3  POLYGON ((4.75386 50.80639, 4.75387 50.80639, ...  \n",
       "4  MULTIPOLYGON (((2.65679 51.12932, 2.65663 51.1...  "
      ]
     },
     "execution_count": 7,
     "metadata": {},
     "output_type": "execute_result"
    }
   ],
   "source": [
    "#read in file in geopandas data structure\n",
    "map_df = gpd.read_file('Belgium_shapefile/BELGIUM_-_Provinces.shp')\n",
    "\n",
    "map_df.head()"
   ]
  },
  {
   "cell_type": "code",
   "execution_count": 8,
   "metadata": {},
   "outputs": [
    {
     "data": {
      "text/plain": [
       "<matplotlib.axes._subplots.AxesSubplot at 0x2558e5e2648>"
      ]
     },
     "execution_count": 8,
     "metadata": {},
     "output_type": "execute_result"
    },
    {
     "data": {
      "image/png": "[encoded data removed]",
      "text/plain": [
       "<Figure size 432x288 with 1 Axes>"
      ]
     },
     "metadata": {
      "needs_background": "light"
     },
     "output_type": "display_data"
    }
   ],
   "source": [
    "map_df.plot()"
   ]
  },
  {
   "cell_type": "markdown",
   "metadata": {},
   "source": [
    "Of course, an empty map isn't our end goal. We want to link information to this visualization. As an example, I will use incorrect, self-created data on the number of inhabitants per province. For the group assignment, you will need to look for various useful data sources on the internet."
   ]
  },
  {
   "cell_type": "code",
   "execution_count": 17,
   "metadata": {},
   "outputs": [],
   "source": [
    "df = pd.read_excel('inh_prov.xlsx')"
   ]
  },
  {
   "cell_type": "code",
   "execution_count": 18,
   "metadata": {},
   "outputs": [
    {
     "data": {
      "text/html": [
       "<div>\n",
       "<style scoped>\n",
       "    .dataframe tbody tr th:only-of-type {\n",
       "        vertical-align: middle;\n",
       "    }\n",
       "\n",
       "    .dataframe tbody tr th {\n",
       "        vertical-align: top;\n",
       "    }\n",
       "\n",
       "    .dataframe thead th {\n",
       "        text-align: right;\n",
       "    }\n",
       "</style>\n",
       "<table border=\"1\" class=\"dataframe\">\n",
       "  <thead>\n",
       "    <tr style=\"text-align: right;\">\n",
       "      <th></th>\n",
       "      <th>Province</th>\n",
       "      <th>Inhabitants</th>\n",
       "    </tr>\n",
       "  </thead>\n",
       "  <tbody>\n",
       "    <tr>\n",
       "      <th>0</th>\n",
       "      <td>Luxemburg</td>\n",
       "      <td>581891</td>\n",
       "    </tr>\n",
       "    <tr>\n",
       "      <th>1</th>\n",
       "      <td>Brussel</td>\n",
       "      <td>1020595</td>\n",
       "    </tr>\n",
       "    <tr>\n",
       "      <th>2</th>\n",
       "      <td>Namen</td>\n",
       "      <td>1505510</td>\n",
       "    </tr>\n",
       "    <tr>\n",
       "      <th>3</th>\n",
       "      <td>Luik</td>\n",
       "      <td>859555</td>\n",
       "    </tr>\n",
       "    <tr>\n",
       "      <th>4</th>\n",
       "      <td>Henegouwen</td>\n",
       "      <td>959291</td>\n",
       "    </tr>\n",
       "  </tbody>\n",
       "</table>\n",
       "</div>"
      ],
      "text/plain": [
       "     Province  Inhabitants\n",
       "0   Luxemburg       581891\n",
       "1     Brussel      1020595\n",
       "2       Namen      1505510\n",
       "3        Luik       859555\n",
       "4  Henegouwen       959291"
      ]
     },
     "execution_count": 18,
     "metadata": {},
     "output_type": "execute_result"
    }
   ],
   "source": [
    "df.head()"
   ]
  },
  {
   "cell_type": "code",
   "execution_count": 19,
   "metadata": {},
   "outputs": [],
   "source": [
    "#Change name to same and then merge\n",
    "df = df.rename(index=str, columns={'Province': 'NE_Name'})"
   ]
  },
  {
   "cell_type": "code",
   "execution_count": 20,
   "metadata": {},
   "outputs": [],
   "source": [
    "map_df = map_df.merge(df, on='NE_Name')"
   ]
  },
  {
   "cell_type": "code",
   "execution_count": 21,
   "metadata": {},
   "outputs": [
    {
     "data": {
      "text/html": [
       "<div>\n",
       "<style scoped>\n",
       "    .dataframe tbody tr th:only-of-type {\n",
       "        vertical-align: middle;\n",
       "    }\n",
       "\n",
       "    .dataframe tbody tr th {\n",
       "        vertical-align: top;\n",
       "    }\n",
       "\n",
       "    .dataframe thead th {\n",
       "        text-align: right;\n",
       "    }\n",
       "</style>\n",
       "<table border=\"1\" class=\"dataframe\">\n",
       "  <thead>\n",
       "    <tr style=\"text-align: right;\">\n",
       "      <th></th>\n",
       "      <th>OBJECTID</th>\n",
       "      <th>CodeINS</th>\n",
       "      <th>NAME_2</th>\n",
       "      <th>FIRST_NAME</th>\n",
       "      <th>FIRST_VARN</th>\n",
       "      <th>FIRST_ENGT</th>\n",
       "      <th>FR_Name</th>\n",
       "      <th>NE_Name</th>\n",
       "      <th>geometry</th>\n",
       "      <th>Inhabitants</th>\n",
       "    </tr>\n",
       "  </thead>\n",
       "  <tbody>\n",
       "    <tr>\n",
       "      <th>0</th>\n",
       "      <td>1</td>\n",
       "      <td>10000</td>\n",
       "      <td>Antwerpen</td>\n",
       "      <td>Vlaanderen</td>\n",
       "      <td>Amberes|Antuérpia|Antwerp|Anvers|Anversa</td>\n",
       "      <td>Province</td>\n",
       "      <td>Anvers</td>\n",
       "      <td>Antwerpen</td>\n",
       "      <td>MULTIPOLYGON (((4.94209 51.45524, 4.94062 51.4...</td>\n",
       "      <td>2034598</td>\n",
       "    </tr>\n",
       "    <tr>\n",
       "      <th>1</th>\n",
       "      <td>2</td>\n",
       "      <td>4000</td>\n",
       "      <td>Bruxelles</td>\n",
       "      <td>Bruxelles</td>\n",
       "      <td>Brussel Hoofstadt|Brusselse Hoofdstedelijke Ge...</td>\n",
       "      <td>Capital Region</td>\n",
       "      <td>Bruxelles</td>\n",
       "      <td>Brussel</td>\n",
       "      <td>POLYGON ((4.40633 50.91309, 4.40722 50.91295, ...</td>\n",
       "      <td>1020595</td>\n",
       "    </tr>\n",
       "    <tr>\n",
       "      <th>2</th>\n",
       "      <td>3</td>\n",
       "      <td>20001</td>\n",
       "      <td>Vlaams Brabant</td>\n",
       "      <td>Vlaanderen</td>\n",
       "      <td>Brabant Flamand|Brabante Flamenco|Brabante Fla...</td>\n",
       "      <td>Province</td>\n",
       "      <td>Brabant Flamand</td>\n",
       "      <td>Vlaams Brabant</td>\n",
       "      <td>POLYGON ((3.98787 50.68749, 3.98772 50.68749, ...</td>\n",
       "      <td>1859591</td>\n",
       "    </tr>\n",
       "    <tr>\n",
       "      <th>3</th>\n",
       "      <td>4</td>\n",
       "      <td>20002</td>\n",
       "      <td>Brabant Wallon</td>\n",
       "      <td>Wallonie</td>\n",
       "      <td>Waals Brabant|Walloon Brabant|Brabante Val?o</td>\n",
       "      <td>Province</td>\n",
       "      <td>Brabant Wallon</td>\n",
       "      <td>Waals Brabant</td>\n",
       "      <td>POLYGON ((4.75386 50.80639, 4.75387 50.80639, ...</td>\n",
       "      <td>292955</td>\n",
       "    </tr>\n",
       "    <tr>\n",
       "      <th>4</th>\n",
       "      <td>5</td>\n",
       "      <td>30000</td>\n",
       "      <td>West-Vlaanderen</td>\n",
       "      <td>Vlaanderen</td>\n",
       "      <td>Fiandra Occidentale|Flandes Occidental|Flandre...</td>\n",
       "      <td>Province</td>\n",
       "      <td>Flandre Occidentale</td>\n",
       "      <td>West-Vlaanderen</td>\n",
       "      <td>MULTIPOLYGON (((2.65679 51.12932, 2.65663 51.1...</td>\n",
       "      <td>785959</td>\n",
       "    </tr>\n",
       "  </tbody>\n",
       "</table>\n",
       "</div>"
      ],
      "text/plain": [
       "   OBJECTID CodeINS           NAME_2  FIRST_NAME  \\\n",
       "0         1   10000        Antwerpen  Vlaanderen   \n",
       "1         2    4000        Bruxelles   Bruxelles   \n",
       "2         3   20001   Vlaams Brabant  Vlaanderen   \n",
       "3         4   20002   Brabant Wallon    Wallonie   \n",
       "4         5   30000  West-Vlaanderen  Vlaanderen   \n",
       "\n",
       "                                          FIRST_VARN      FIRST_ENGT  \\\n",
       "0           Amberes|Antuérpia|Antwerp|Anvers|Anversa        Province   \n",
       "1  Brussel Hoofstadt|Brusselse Hoofdstedelijke Ge...  Capital Region   \n",
       "2  Brabant Flamand|Brabante Flamenco|Brabante Fla...        Province   \n",
       "3       Waals Brabant|Walloon Brabant|Brabante Val?o        Province   \n",
       "4  Fiandra Occidentale|Flandes Occidental|Flandre...        Province   \n",
       "\n",
       "               FR_Name          NE_Name  \\\n",
       "0               Anvers        Antwerpen   \n",
       "1            Bruxelles          Brussel   \n",
       "2      Brabant Flamand   Vlaams Brabant   \n",
       "3       Brabant Wallon    Waals Brabant   \n",
       "4  Flandre Occidentale  West-Vlaanderen   \n",
       "\n",
       "                                            geometry  Inhabitants  \n",
       "0  MULTIPOLYGON (((4.94209 51.45524, 4.94062 51.4...      2034598  \n",
       "1  POLYGON ((4.40633 50.91309, 4.40722 50.91295, ...      1020595  \n",
       "2  POLYGON ((3.98787 50.68749, 3.98772 50.68749, ...      1859591  \n",
       "3  POLYGON ((4.75386 50.80639, 4.75387 50.80639, ...       292955  \n",
       "4  MULTIPOLYGON (((2.65679 51.12932, 2.65663 51.1...       785959  "
      ]
     },
     "execution_count": 21,
     "metadata": {},
     "output_type": "execute_result"
    }
   ],
   "source": [
    "map_df.head()"
   ]
  },
  {
   "cell_type": "code",
   "execution_count": 30,
   "metadata": {},
   "outputs": [
    {
     "data": {
      "text/plain": [
       "<matplotlib.axes._subplots.AxesSubplot at 0x2558e069a88>"
      ]
     },
     "execution_count": 30,
     "metadata": {},
     "output_type": "execute_result"
    },
    {
     "data": {
      "image/png": "[encoded data removed]",
      "text/plain": [
       "<Figure size 720x432 with 1 Axes>"
      ]
     },
     "metadata": {
      "needs_background": "light"
     },
     "output_type": "display_data"
    }
   ],
   "source": [
    "# create figure and axes for Matplotlib\n",
    "fig, ax = plt.subplots(1, figsize=(10, 6))\n",
    "\n",
    "#Use cmap = 'BuGn' to get nice color-shaded plot\n",
    "map_df.plot(column='Inhabitants', cmap='BuGn', linewidth=0.8, ax=ax)"
   ]
  },
  {
   "cell_type": "markdown",
   "metadata": {},
   "source": [
    "Pretty easy right? Enjoy trying out different things as well as checking out the other .shp files provided on the URL I posted somewhere above here."
   ]
  },
  {
   "cell_type": "markdown",
   "metadata": {},
   "source": [
    "What is also useful is matplotlib layer-by-layer information. As most geospatial data is structured in lat-lon format you can just plot various geographic representations on each other. To show this, I will be plotting some large Belgian universities on our map."
   ]
  },
  {
   "cell_type": "code",
   "execution_count": 31,
   "metadata": {},
   "outputs": [],
   "source": [
    "data = {'Name':  ['Ugent', 'KULeuven', 'VUB'],\n",
    "        'lat': [51.046672, 50.877833, 50.822476],\n",
    "        'lon': [3.727708, 4.700250, 4.394807]}\n",
    "\n",
    "data_df = pd.DataFrame(data, columns = ['Name', 'lat', 'lon'])"
   ]
  },
  {
   "cell_type": "code",
   "execution_count": 61,
   "metadata": {},
   "outputs": [
    {
     "data": {
      "text/plain": [
       "<matplotlib.axes._subplots.AxesSubplot at 0x2558ef0c108>"
      ]
     },
     "execution_count": 61,
     "metadata": {},
     "output_type": "execute_result"
    },
    {
     "data": {
      "image/png": "[encoded data removed]",
      "text/plain": [
       "<Figure size 432x288 with 1 Axes>"
      ]
     },
     "metadata": {
      "needs_background": "light"
     },
     "output_type": "display_data"
    }
   ],
   "source": [
    "#Plot individually\n",
    "data_df.plot('lon', 'lat', 'scatter',  color='red')"
   ]
  },
  {
   "cell_type": "code",
   "execution_count": 58,
   "metadata": {},
   "outputs": [
    {
     "data": {
      "text/plain": [
       "<matplotlib.axes._subplots.AxesSubplot at 0x2558ef2f808>"
      ]
     },
     "execution_count": 58,
     "metadata": {},
     "output_type": "execute_result"
    },
    {
     "data": {
      "image/png": "[encoded data removed]",
      "text/plain": [
       "<Figure size 432x288 with 1 Axes>"
      ]
     },
     "metadata": {
      "needs_background": "light"
     },
     "output_type": "display_data"
    }
   ],
   "source": [
    "ax = data_df.plot('lon', 'lat', 'scatter',  color='red', zorder=2)\n",
    "map_df.plot(column='Inhabitants', cmap='BuGn', linewidth=0.8, ax = ax, zorder = 1)"
   ]
  }
 ],
 "metadata": {
  "kernelspec": {
   "display_name": "Python 3",
   "language": "python",
   "name": "python3"
  },
  "language_info": {
   "codemirror_mode": {
    "name": "ipython",
    "version": 3
   },
   "file_extension": ".py",
   "mimetype": "text/x-python",
   "name": "python",
   "nbconvert_exporter": "python",
   "pygments_lexer": "ipython3",
   "version": "3.7.4"
  }
 },
 "nbformat": 4,
 "nbformat_minor": 2
}
